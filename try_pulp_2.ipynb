{
 "metadata": {
  "name": "",
  "signature": "sha256:89d35cceea141ec404b31912d6ca9a835cb32ec1f802d7beebea1a617a7a0672"
 },
 "nbformat": 3,
 "nbformat_minor": 0,
 "worksheets": [
  {
   "cells": [
    {
     "cell_type": "code",
     "collapsed": false,
     "input": [
      "\"\"\"\n",
      "this is my attempt at using pulp\n",
      "\"\"\"\n",
      "\n",
      "from pulp import *"
     ],
     "language": "python",
     "metadata": {},
     "outputs": [],
     "prompt_number": 23
    },
    {
     "cell_type": "code",
     "collapsed": false,
     "input": [
      "Ingredients = ['x1', 'x2', 'x3', 'x4', 'x5', 'x6']\n",
      "\n",
      "costs = {'x1': 0.007,\n",
      "         'x2': 0.008,\n",
      "         'x3': 0.01,\n",
      "         'x4': 0.002,\n",
      "         'x5': 0.005,\n",
      "         'x6': 0.001}\n",
      "\n",
      "proteinPercent = {'x1': 0.1,\n",
      "         'x2': 0.16,\n",
      "         'x3': 0.15,\n",
      "         'x4': 0.0,\n",
      "         'x5': 0.04,\n",
      "         'x6': 0.0}\n",
      "\n",
      "fatPercent = {'x1': 0.08,\n",
      "         'x2': 0.07,\n",
      "         'x3': 0.11,\n",
      "         'x4': 0.01,\n",
      "         'x5': 0.01,\n",
      "         'x6': 0.0}\n",
      "\n",
      "fibrePercent = {'x1': 0.001,\n",
      "         'x2': 0.005,\n",
      "         'x3': 0.003,\n",
      "         'x4': 0.1,\n",
      "         'x5': 0.15,\n",
      "         'x6': 0.0}\n",
      "\n",
      "saltPercent = {'x1': 0.002,\n",
      "         'x2': 0.005,\n",
      "         'x3': 0.007,\n",
      "         'x4': 0.002,\n",
      "         'x5': 0.008,\n",
      "         'x6': 0.0}"
     ],
     "language": "python",
     "metadata": {},
     "outputs": [],
     "prompt_number": 24
    },
    {
     "cell_type": "code",
     "collapsed": true,
     "input": [
      "prob = LpProblem(\"test_pulp\", LpMinimize)\n",
      "prob"
     ],
     "language": "python",
     "metadata": {},
     "outputs": [
      {
       "metadata": {},
       "output_type": "pyout",
       "prompt_number": 25,
       "text": [
        "test_pulp:\n",
        "MINIMIZE\n",
        "None\n",
        "VARIABLES"
       ]
      }
     ],
     "prompt_number": 25
    },
    {
     "cell_type": "code",
     "collapsed": false,
     "input": [
      "ingredient_vars = LpVariable.dicts(\"Ingr\", Ingredients, 0)\n",
      "ingredient_vars"
     ],
     "language": "python",
     "metadata": {},
     "outputs": [
      {
       "metadata": {},
       "output_type": "pyout",
       "prompt_number": 26,
       "text": [
        "{'x1': Ingr_x1,\n",
        " 'x2': Ingr_x2,\n",
        " 'x3': Ingr_x3,\n",
        " 'x4': Ingr_x4,\n",
        " 'x5': Ingr_x5,\n",
        " 'x6': Ingr_x6}"
       ]
      }
     ],
     "prompt_number": 26
    },
    {
     "cell_type": "code",
     "collapsed": false,
     "input": [
      "prob += lpSum([costs[i]*ingredient_vars[i] for i in Ingredients]), \"Total Cost of Ingredients\""
     ],
     "language": "python",
     "metadata": {},
     "outputs": [],
     "prompt_number": 27
    },
    {
     "cell_type": "code",
     "collapsed": false,
     "input": [
      "prob += lpSum([ingredient_vars[i] for i in Ingredients]) == 100, \"Percentage Sum\"\n",
      "prob += lpSum([proteinPercent[i]*ingredient_vars[i] for i in Ingredients]) >= 8.0, \"Protein Sum\"\n",
      "prob += lpSum([fatPercent[i]*ingredient_vars[i] for i in Ingredients]) >= 6.0, \"FatRequirement\"\n",
      "prob += lpSum([fibrePercent[i]*ingredient_vars[i] for i in Ingredients]) <= 2.0, \"FibreRequirement\"\n",
      "prob += lpSum([saltPercent[i]*ingredient_vars[i] for i in Ingredients]) <= 0.4, \"SaltRequirement\""
     ],
     "language": "python",
     "metadata": {},
     "outputs": [],
     "prompt_number": 28
    },
    {
     "cell_type": "code",
     "collapsed": false,
     "input": [
      "prob.solve()"
     ],
     "language": "python",
     "metadata": {},
     "outputs": [
      {
       "metadata": {},
       "output_type": "pyout",
       "prompt_number": 29,
       "text": [
        "1"
       ]
      }
     ],
     "prompt_number": 29
    },
    {
     "cell_type": "code",
     "collapsed": false,
     "input": [
      "print \"Status:\", LpStatus[prob.status]"
     ],
     "language": "python",
     "metadata": {},
     "outputs": [
      {
       "output_type": "stream",
       "stream": "stdout",
       "text": [
        "Status: Optimal\n"
       ]
      }
     ],
     "prompt_number": 30
    },
    {
     "cell_type": "code",
     "collapsed": false,
     "input": [
      "for v in prob.variables():\n",
      "    print v.name, \"=\", v.varValue"
     ],
     "language": "python",
     "metadata": {},
     "outputs": [
      {
       "output_type": "stream",
       "stream": "stdout",
       "text": [
        "Ingr_x1 = 68.965517\n",
        "Ingr_x2 = 6.8965517\n",
        "Ingr_x3 = 0.0\n",
        "Ingr_x4 = 0.0\n",
        "Ingr_x5 = 0.0\n",
        "Ingr_x6 = 24.137931\n"
       ]
      }
     ],
     "prompt_number": 31
    },
    {
     "cell_type": "code",
     "collapsed": false,
     "input": [],
     "language": "python",
     "metadata": {},
     "outputs": []
    }
   ],
   "metadata": {}
  }
 ]
}