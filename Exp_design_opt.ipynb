{
 "metadata": {
  "name": "",
  "signature": "sha256:571574d08d810404d6a251db2d828489f3abfdc68aa176c16ce7202e389f4048"
 },
 "nbformat": 3,
 "nbformat_minor": 0,
 "worksheets": [
  {
   "cells": [
    {
     "cell_type": "markdown",
     "metadata": {},
     "source": [
      "## Optimisation of the Experimental Design for the Flexible PVC Modelling Experiments\n",
      "Allocation of Degree and Student for each experiment"
     ]
    },
    {
     "cell_type": "code",
     "collapsed": false,
     "input": [
      "from milp import solve_milp\n",
      "from numpy import linspace\n",
      "#from matplotlib.pyplot import plot, xlim, ylim, legend, figure\n",
      "% pylab inline"
     ],
     "language": "python",
     "metadata": {},
     "outputs": [
      {
       "output_type": "stream",
       "stream": "stdout",
       "text": [
        "Populating the interactive namespace from numpy and matplotlib\n"
       ]
      }
     ],
     "prompt_number": 7
    },
    {
     "cell_type": "markdown",
     "metadata": {},
     "source": [
      "####Define Constants"
     ]
    },
    {
     "cell_type": "code",
     "collapsed": false,
     "input": [
      "p = [45*8, 45*8, 80, 80] #Time limit for each student\n",
      "#p = [i*0.7 for i in p] #Scale factor for time (safety factor) might not be necessary\n",
      "# Use working day calculator (south-africa.workingdays.org) \n",
      "# to calculate number of hours available for p[0] which is R Fechter\n",
      "# from 1 Feb to 6 April\n",
      "\n",
      "mm_lambda_1 = 1.0 #Minimax constraint minimum degree value\n",
      "mm_lambda_2 = 1.0 #Minimax constraint minimum no. experiments per student"
     ],
     "language": "python",
     "metadata": {},
     "outputs": [],
     "prompt_number": 8
    },
    {
     "cell_type": "code",
     "collapsed": false,
     "input": [
      "exp_time_data = {'Antistat': {'exp_time': 5.0,\n",
      "                             'sample_prep_time': 25.0,\n",
      "                             'no_exp_p_day': None,\n",
      "                             'no_exp_p_run': 1.0},\n",
      "                    'Rheometer':{'exp_time': 210.0,\n",
      "\t\t\t\t\t\t\t\t 'sample_prep_time': None,\n",
      "\t\t\t\t\t\t\t\t 'no_exp_p_day': None,\n",
      "\t\t\t\t\t\t\t\t 'no_exp_p_run': 1.0}, \n",
      "\t\t\t\t\t'Metrastat':{'exp_time': 180.0,\n",
      "\t\t\t\t\t\t\t\t 'sample_prep_time': 25.0,\n",
      "\t\t\t\t\t\t\t\t 'no_exp_p_day': None,\n",
      "\t\t\t\t\t\t\t\t 'no_exp_p_run': 3.0},\n",
      "\t\t\t\t\t'Ransomat': {'exp_time': 300.0,\n",
      "\t\t\t\t\t\t\t\t 'sample_prep_time': 20.0,\n",
      "\t\t\t\t\t\t\t\t 'no_exp_p_day': None,\n",
      "\t\t\t\t\t\t\t\t 'no_exp_p_run': 8.0},\n",
      "\t\t\t\t\t'Vicat':    {'exp_time': 20.0, #Need more info\n",
      "\t\t\t\t\t\t\t\t 'sample_prep_time': None,\n",
      "\t\t\t\t\t\t\t\t 'no_exp_p_day': None,\n",
      "\t\t\t\t\t\t\t\t 'no_exp_p_run': 5.0},\n",
      "\t\t\t\t\t'TMA':      {'exp_time': 30,\n",
      "\t\t\t\t\t\t\t\t 'sample_prep_time': None,\n",
      "\t\t\t\t\t\t\t\t 'no_exp_p_day': None,\n",
      "\t\t\t\t\t\t\t\t 'no_exp_p_run': 1.0},\n",
      "\t\t\t\t\t'Tensile': {'exp_time': 15.0, #Need more info\n",
      "\t\t\t\t\t\t\t\t 'sample_prep_time': 25.0,\n",
      "\t\t\t\t\t\t\t\t 'no_exp_p_day': None,\n",
      "\t\t\t\t\t\t\t\t 'no_exp_p_run': 1.0},\n",
      "\t\t\t\t\t'Impact':  {'exp_time': 15.0, #Need more info\n",
      "\t\t\t\t\t\t\t\t 'sample_prep_time': 25.0,\n",
      "\t\t\t\t\t\t\t\t 'no_exp_p_day': None,\n",
      "\t\t\t\t\t\t\t\t 'no_exp_p_run': 1.0},\n",
      "\t\t\t\t\t'Cone_Cal': {'exp_time': None,\n",
      "\t\t\t\t\t\t\t\t 'sample_prep_time': 25.0,\n",
      "\t\t\t\t\t\t\t\t 'no_exp_p_day': 14,\n",
      "\t\t\t\t\t\t\t\t 'no_exp_p_run': 1.0},\n",
      "\t\t\t\t\t'Micro_Cone':{'exp_time': None, #Need more info\n",
      "\t\t\t\t\t\t\t\t 'sample_prep_time': None, # Ask Monique\n",
      "\t\t\t\t\t\t\t\t 'no_exp_p_day': 12,\n",
      "\t\t\t\t\t\t\t\t 'no_exp_p_run': 1.0},\n",
      "\t\t\t\t\t'UL94':     {'exp_time': 10.0, #Need more info\n",
      "\t\t\t\t\t\t\t\t 'sample_prep_time': 10.0,\n",
      "\t\t\t\t\t\t\t\t 'no_exp_p_day': None,\n",
      "\t\t\t\t\t\t\t\t 'no_exp_p_run': 1.0},\n",
      "\t\t\t\t\t'LOI':      {'exp_time': None, #Need more info\n",
      "\t\t\t\t\t\t\t\t 'sample_prep_time': None,# Ask Monique\n",
      "\t\t\t\t\t\t\t\t 'no_exp_p_day': 12,\n",
      "                                 'no_exp_p_run': 1.0}}"
     ],
     "language": "python",
     "metadata": {},
     "outputs": [],
     "prompt_number": 9
    },
    {
     "cell_type": "code",
     "collapsed": false,
     "input": [
      "experiments = ['Antistat',\n",
      "               'Rheometer',\n",
      "               'Metrastat',\n",
      "               'Ransomat',\n",
      "               'Vicat',\n",
      "               'TMA',\n",
      "               'Tensile',\n",
      "               'Impact',\n",
      "               'Cone_Cal',\n",
      "               'Micro_Cone',\n",
      "               'UL94',\n",
      "               'LOI'] \n",
      "\n",
      "experiments.sort() #experiment list must be alphabetical for output to make sense"
     ],
     "language": "python",
     "metadata": {},
     "outputs": [],
     "prompt_number": 10
    },
    {
     "cell_type": "markdown",
     "metadata": {},
     "source": [
      "####Optimisation"
     ]
    },
    {
     "cell_type": "code",
     "collapsed": false,
     "input": [
      "[obj_val, status] = solve_milp(p, mm_lambda_1, mm_lambda_2, exp_time_data, experiments)"
     ],
     "language": "python",
     "metadata": {},
     "outputs": [
      {
       "output_type": "stream",
       "stream": "stdout",
       "text": [
        "Status: Optimal\n",
        "_______________________\n",
        "Degree allocation for each experiment\n",
        "_______________________\n",
        "Experiment Antistat   | Degree 3   | No. Exp 60.0 | Time Req. 30.0\n",
        "Experiment Cone_Cal   | Degree 3   | No. Exp 70.0 | Time Req. 69.1666666667\n",
        "Experiment Impact     | Degree 3   | No. Exp 60.0 | Time Req. 40.0\n",
        "Experiment LOI        | Degree 3   | No. Exp 60.0 | Time Req. 40.0\n",
        "Experiment Metrastat  | Degree 3   | No. Exp 60.0 | Time Req. 85.0\n",
        "Experiment Micro_Cone | Degree 3   | No. Exp 60.0 | Time Req. 40.0\n",
        "Experiment Ransomat   | Degree 3   | No. Exp 64.0 | Time Req. 61.3333333333\n",
        "Experiment Rheometer  | Degree 2   | No. Exp 25.0 | Time Req. 87.5\n",
        "Experiment TMA        | Degree 3   | No. Exp 60.0 | Time Req. 30.0\n",
        "Experiment Tensile    | Degree 3   | No. Exp 60.0 | Time Req. 40.0\n",
        "Experiment UL94       | Degree 3   | No. Exp 60.0 | Time Req. 20.0\n",
        "Experiment Vicat      | Degree 3   | No. Exp 60.0 | Time Req. 4.0\n",
        "_______________________\n",
        "\n",
        "Student allocation for each experiment\n",
        "_______________________\n",
        "Experiment Antistat   | Student 1\n",
        "Experiment Cone_Cal   | Student 4\n",
        "Experiment Impact     | Student 1\n",
        "Experiment LOI        | Student 2\n",
        "Experiment Metrastat  | Student 1\n",
        "Experiment Micro_Cone | Student 2\n",
        "Experiment Ransomat   | Student 3\n",
        "Experiment Rheometer  | Student 1\n",
        "Experiment TMA        | Student 1\n",
        "Experiment Tensile    | Student 1\n",
        "Experiment UL94       | Student 1\n",
        "Experiment Vicat      | Student 1\n",
        "_______________________\n",
        "\n",
        "Total time required from each student\n",
        "_______________________\n",
        "Student 1 | Total time 336.5\n",
        "Student 2 | Total time 80.0\n",
        "Student 3 | Total time 61.333333\n",
        "Student 4 | Total time 69.166667\n",
        "_______________________\n",
        "Objective = 35.0\n"
       ]
      }
     ],
     "prompt_number": 11
    },
    {
     "cell_type": "code",
     "collapsed": false,
     "input": [],
     "language": "python",
     "metadata": {},
     "outputs": []
    }
   ],
   "metadata": {}
  }
 ]
}