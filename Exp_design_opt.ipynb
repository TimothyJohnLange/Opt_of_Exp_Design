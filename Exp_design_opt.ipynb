{
 "metadata": {
  "name": "",
  "signature": "sha256:a15de04a9478ebe6291d43113dfb978cf951056f45ee72725f317771619eb19a"
 },
 "nbformat": 3,
 "nbformat_minor": 0,
 "worksheets": [
  {
   "cells": [
    {
     "cell_type": "markdown",
     "metadata": {},
     "source": [
      "## Optimisation of the Experimental Design for the Flexible PVC Modelling Experiments\n",
      "Allocation of Degree and Student for each experiment"
     ]
    },
    {
     "cell_type": "code",
     "collapsed": false,
     "input": [
      "from pulp import *\n",
      "from calc_constants import calc_T\n",
      "from report import results\n",
      "% pylab inline"
     ],
     "language": "python",
     "metadata": {},
     "outputs": [
      {
       "output_type": "stream",
       "stream": "stdout",
       "text": [
        "Populating the interactive namespace from numpy and matplotlib\n"
       ]
      },
      {
       "output_type": "stream",
       "stream": "stderr",
       "text": [
        "WARNING: pylab import has clobbered these variables: ['permutation', 'log']\n",
        "`%matplotlib` prevents importing * from pylab and numpy\n"
       ]
      }
     ],
     "prompt_number": 1
    },
    {
     "cell_type": "markdown",
     "metadata": {},
     "source": [
      "####Define Design Variables"
     ]
    },
    {
     "cell_type": "code",
     "collapsed": false,
     "input": [
      "#Degree allocation for each Experiment\n",
      "\n",
      "#Exp List must be in alphabetical order for the program output to make sense\n",
      "\n",
      "experiments = ['Antistat',\n",
      "               'Rheometer',\n",
      "               'Metrastat',\n",
      "               'Ransomat',\n",
      "               'Vicat',\n",
      "               'TMA',\n",
      "               'Tensile',\n",
      "               'Impact',\n",
      "               'Cone_Cal',\n",
      "               'Micro_Cone',\n",
      "               'UL94',\n",
      "               'LOI']\n",
      "experiments.sort()\n",
      "\n",
      "no_exp = size(experiments)\n",
      "\n",
      "degrees = ['1', '2', '2.5', '3'] \n",
      "\n",
      "#Binary variables for each combination of experiment and degree \n",
      "N = LpVariable.dicts('exp_deg', (experiments, degrees), 0, 1, 'Integer')\n",
      "\n",
      "#Allocation of Students to Degree\n",
      "no_students = 4\n",
      "students = [str(i + 1) for i in range(no_students)]\n",
      "\n",
      "#Binary variables for each combination of experiment and student\n",
      "S = LpVariable.dicts('exp_stu', (experiments, students), 0, 1, 'Integer')\n",
      "\n",
      "#Continuous variable for total time required for each experiment\n",
      "tau = LpVariable.dicts('total_time', experiments)\n",
      "\n",
      "#Continuous variable introduces in glover formulation, z_ji = S_ij*tau_i\n",
      "z = LpVariable.dicts('stu_exp', (students, experiments))"
     ],
     "language": "python",
     "metadata": {},
     "outputs": [],
     "prompt_number": 2
    },
    {
     "cell_type": "markdown",
     "metadata": {},
     "source": [
      "####Define Constants"
     ]
    },
    {
     "cell_type": "code",
     "collapsed": false,
     "input": [
      "d = [1.0, 2.0, 2.5, 3.0] #Degree values\n",
      "\n",
      "p = [480.0, 100.0, 80.0, 80.0] #Time limit for each student"
     ],
     "language": "python",
     "metadata": {},
     "outputs": [],
     "prompt_number": 3
    },
    {
     "cell_type": "code",
     "collapsed": false,
     "input": [
      "T_no_exp_all = calc_T(experiments)\n",
      "T = T_no_exp_all[0] #Time required for each experiment degree combination\n",
      "no_exp_all = T_no_exp_all[1] #No of experiments required for each experiment degree combination"
     ],
     "language": "python",
     "metadata": {},
     "outputs": [],
     "prompt_number": 4
    },
    {
     "cell_type": "code",
     "collapsed": false,
     "input": [
      "U = amax(T)\n",
      "L = amin(T)"
     ],
     "language": "python",
     "metadata": {},
     "outputs": [],
     "prompt_number": 5
    },
    {
     "cell_type": "code",
     "collapsed": false,
     "input": [
      "mm_lambda_1 = 1.0 #Minimax constraint minimum degree value\n",
      "mm_lambda_2 = 2.0 #Minimax constraint minimum no. experiments per student"
     ],
     "language": "python",
     "metadata": {},
     "outputs": [],
     "prompt_number": 6
    },
    {
     "cell_type": "markdown",
     "metadata": {},
     "source": [
      "####Initiate Problem"
     ]
    },
    {
     "cell_type": "code",
     "collapsed": false,
     "input": [
      "prob = LpProblem('Optimisation of Experimental Design', LpMaximize)"
     ],
     "language": "python",
     "metadata": {},
     "outputs": [],
     "prompt_number": 7
    },
    {
     "cell_type": "markdown",
     "metadata": {},
     "source": [
      "####Define Objective function"
     ]
    },
    {
     "cell_type": "code",
     "collapsed": false,
     "input": [
      "obj = []\n",
      "for i in experiments:\n",
      "    obj.append(sum([d[n]*N[i][j] for n, j in enumerate(degrees)]))\n",
      "\n",
      "prob += sum(obj)"
     ],
     "language": "python",
     "metadata": {},
     "outputs": [],
     "prompt_number": 8
    },
    {
     "cell_type": "markdown",
     "metadata": {},
     "source": [
      "#### Define Constraints\n",
      "Logical Constraints"
     ]
    },
    {
     "cell_type": "code",
     "collapsed": false,
     "input": [
      "#Logical constraint on degrees of experiments\n",
      "\n",
      "for i in experiments:\n",
      "    prob += sum([N[i][j] for j in degrees]) == 1, 'Logic constr on deg of exp %s'%i"
     ],
     "language": "python",
     "metadata": {},
     "outputs": [],
     "prompt_number": 9
    },
    {
     "cell_type": "code",
     "collapsed": false,
     "input": [
      "#Logical constraint on allocations of students to experiments\n",
      "\n",
      "for i in experiments:\n",
      "    prob += sum([S[i][j] for j in students]) == 1, 'Logic constr on stu per exp %s'%i"
     ],
     "language": "python",
     "metadata": {},
     "outputs": [],
     "prompt_number": 10
    },
    {
     "cell_type": "markdown",
     "metadata": {},
     "source": [
      "Resource Constraints (Glover Constraints)"
     ]
    },
    {
     "cell_type": "code",
     "collapsed": false,
     "input": [
      "for n, j in enumerate(students):\n",
      "    prob += sum([z[j][i] for i in experiments]) <= p[n], 'Stu %s time constr'%j \n",
      "    for i in experiments:\n",
      "        prob += z[j][i] <= U*S[i][j], 'Glover constr 1 up exp %s stu %s'%(i, j)\n",
      "        prob += z[j][i] >= L*S[i][j], 'Glover constr 1 low exp %s stu %s'%(i, j)\n",
      "        prob += z[j][i] <= tau[i] - L*(1 - S[i][j]), 'Glover constr 2 low exp %s stu %s'%(i, j)\n",
      "        prob += z[j][i] >= tau[i] - U*(1 - S[i][j]), 'Glover constr 2 up exp %s stu %s'%(i, j)"
     ],
     "language": "python",
     "metadata": {},
     "outputs": [],
     "prompt_number": 11
    },
    {
     "cell_type": "markdown",
     "metadata": {},
     "source": [
      "Calculation of Tau Constraint"
     ]
    },
    {
     "cell_type": "code",
     "collapsed": false,
     "input": [
      "for m, i in enumerate(experiments):\n",
      "    prob += sum([T[m][n]*N[i][j] for n, j in enumerate(degrees)]) == tau[i],'Calc of tau %s constr'%i "
     ],
     "language": "python",
     "metadata": {},
     "outputs": [],
     "prompt_number": 12
    },
    {
     "cell_type": "markdown",
     "metadata": {},
     "source": [
      "Constraint on the type of experiments a student can do"
     ]
    },
    {
     "cell_type": "code",
     "collapsed": false,
     "input": [
      "stu_2_exp = ['Micro_Cone',\n",
      "             'LOI']\n",
      "\n",
      "prob += sum([S[i][students[1]] for i in experiments if i not in stu_2_exp]) == 0,'Student 2 exp constr'\n",
      "\n",
      "stu_3_exp = ['Rheometer',\n",
      "             'Ransomat',\n",
      "             'Metrastat']\n",
      "\n",
      "prob += sum([S[i][students[2]] for i in experiments if i not in stu_3_exp]) == 0,'Student 3 exp constr'\n",
      "\n",
      "stu_4_exp = ['Cone_Cal',\n",
      "             'UL94']\n",
      "\n",
      "prob += sum([S[i][students[3]] for i in experiments if i not in stu_4_exp]) == 0,'Student 4 exp constr'"
     ],
     "language": "python",
     "metadata": {},
     "outputs": [],
     "prompt_number": 13
    },
    {
     "cell_type": "markdown",
     "metadata": {},
     "source": [
      "Minimax Constraint (Minimum Degree)"
     ]
    },
    {
     "cell_type": "code",
     "collapsed": false,
     "input": [
      "for i in experiments:\n",
      "    prob += sum([d[n]*N[i][j] for n, j in enumerate(degrees)]) >= mm_lambda_1, 'Minimax 1 constr exp %s'%i"
     ],
     "language": "python",
     "metadata": {},
     "outputs": [],
     "prompt_number": 14
    },
    {
     "cell_type": "markdown",
     "metadata": {},
     "source": [
      "Minimax Constraint (Minimum no. of Experiments per Student)"
     ]
    },
    {
     "cell_type": "code",
     "collapsed": false,
     "input": [
      "for j in students:\n",
      "    prob += sum([S[i][j] for i in experiments]) >= mm_lambda_2, 'Minimax 2 constr stu %s'%j"
     ],
     "language": "python",
     "metadata": {},
     "outputs": [],
     "prompt_number": 15
    },
    {
     "cell_type": "markdown",
     "metadata": {},
     "source": [
      "####Write Problem to File"
     ]
    },
    {
     "cell_type": "code",
     "collapsed": false,
     "input": [
      "#prob.writeLP('first_attempt.lp')"
     ],
     "language": "python",
     "metadata": {},
     "outputs": [],
     "prompt_number": 16
    },
    {
     "cell_type": "markdown",
     "metadata": {},
     "source": [
      "####Solve Problem"
     ]
    },
    {
     "cell_type": "code",
     "collapsed": false,
     "input": [
      "prob.solve()"
     ],
     "language": "python",
     "metadata": {},
     "outputs": [
      {
       "metadata": {},
       "output_type": "pyout",
       "prompt_number": 17,
       "text": [
        "1"
       ]
      }
     ],
     "prompt_number": 17
    },
    {
     "cell_type": "markdown",
     "metadata": {},
     "source": [
      "####Report Solution"
     ]
    },
    {
     "cell_type": "markdown",
     "metadata": {},
     "source": [
      "Solution Status"
     ]
    },
    {
     "cell_type": "code",
     "collapsed": false,
     "input": [
      "print 'Status:', LpStatus[prob.status]"
     ],
     "language": "python",
     "metadata": {},
     "outputs": [
      {
       "output_type": "stream",
       "stream": "stdout",
       "text": [
        "Status: Optimal\n"
       ]
      }
     ],
     "prompt_number": 18
    },
    {
     "cell_type": "markdown",
     "metadata": {},
     "source": [
      "Detailed Solution Report"
     ]
    },
    {
     "cell_type": "code",
     "collapsed": false,
     "input": [
      "results(prob, degrees, no_exp, no_students, experiments, students, no_exp_all, T)"
     ],
     "language": "python",
     "metadata": {},
     "outputs": [
      {
       "output_type": "stream",
       "stream": "stdout",
       "text": [
        "Degree allocation for each experiment\n",
        "_______________________\n",
        "Experiment Antistat   | Degree 3   | No. Exp 60.0 | Time Req. 30.0\n",
        "Experiment Cone_Cal   | Degree 2.5 | No. Exp 42.0 | Time Req. 41.5\n",
        "Experiment Impact     | Degree 3   | No. Exp 60.0 | Time Req. 40.0\n",
        "Experiment LOI        | Degree 3   | No. Exp 70.0 | Time Req. 40.0\n",
        "Experiment Metrastat  | Degree 2   | No. Exp 27.0 | Time Req. 38.25\n",
        "Experiment Micro_Cone | Degree 3   | No. Exp 70.0 | Time Req. 40.0\n",
        "Experiment Ransomat   | Degree 2.5 | No. Exp 40.0 | Time Req. 38.3333333333\n",
        "Experiment Rheometer  | Degree 3   | No. Exp 60.0 | Time Req. 210.0\n",
        "Experiment TMA        | Degree 3   | No. Exp 60.0 | Time Req. 30.0\n",
        "Experiment Tensile    | Degree 3   | No. Exp 60.0 | Time Req. 40.0\n",
        "Experiment UL94       | Degree 3   | No. Exp 60.0 | Time Req. 20.0\n",
        "Experiment Vicat      | Degree 3   | No. Exp 60.0 | Time Req. 4.0\n",
        "_______________________\n",
        "\n",
        "Student allocation for each experiment\n",
        "_______________________\n",
        "Experiment Antistat   | Student 1\n",
        "Experiment Cone_Cal   | Student 4\n",
        "Experiment Impact     | Student 1\n",
        "Experiment LOI        | Student 2\n",
        "Experiment Metrastat  | Student 3\n",
        "Experiment Micro_Cone | Student 2\n",
        "Experiment Ransomat   | Student 3\n",
        "Experiment Rheometer  | Student 1\n",
        "Experiment TMA        | Student 1\n",
        "Experiment Tensile    | Student 1\n",
        "Experiment UL94       | Student 4\n",
        "Experiment Vicat      | Student 1\n",
        "_______________________\n",
        "\n",
        "Total time required from each student\n",
        "_______________________\n",
        "Student 1 | Total time 354.0\n",
        "Student 2 | Total time 80.0\n",
        "Student 3 | Total time 76.583333\n",
        "Student 4 | Total time 61.5\n",
        "_______________________\n"
       ]
      }
     ],
     "prompt_number": 20
    },
    {
     "cell_type": "markdown",
     "metadata": {},
     "source": [
      "Optimum Objective Function Value"
     ]
    },
    {
     "cell_type": "code",
     "collapsed": false,
     "input": [
      "print 'Objective =', value(prob.objective)"
     ],
     "language": "python",
     "metadata": {},
     "outputs": [
      {
       "output_type": "stream",
       "stream": "stdout",
       "text": [
        "Objective = 34.5\n"
       ]
      }
     ],
     "prompt_number": 156
    },
    {
     "cell_type": "code",
     "collapsed": false,
     "input": [],
     "language": "python",
     "metadata": {},
     "outputs": []
    }
   ],
   "metadata": {}
  }
 ]
}