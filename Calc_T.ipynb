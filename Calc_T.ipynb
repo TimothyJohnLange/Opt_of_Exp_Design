{
 "metadata": {
  "name": "",
  "signature": "sha256:1a352ee229efc634a969ad76046639bdb55b82a51e1e21149099aaf8983c3e8f"
 },
 "nbformat": 3,
 "nbformat_minor": 0,
 "worksheets": [
  {
   "cells": [
    {
     "cell_type": "code",
     "collapsed": false,
     "input": [
      "from scipy.misc import comb\n",
      "from numpy import zeros, size\n",
      "from math import ceil"
     ],
     "language": "python",
     "metadata": {},
     "outputs": [],
     "prompt_number": 1
    },
    {
     "cell_type": "code",
     "collapsed": false,
     "input": [
      "deg = [1.0, 2.0, 2.5, 3]\n",
      "q = 6.0"
     ],
     "language": "python",
     "metadata": {},
     "outputs": [],
     "prompt_number": 2
    },
    {
     "cell_type": "code",
     "collapsed": false,
     "input": [
      "experiments = ['Antistat',\n",
      "               'Rheometer',\n",
      "               'Metrastat',\n",
      "               'Ransomat',\n",
      "               'Vicat',\n",
      "               'TMA',\n",
      "               'Tensile',\n",
      "               'Impact',\n",
      "               'Cone_Cal',\n",
      "               'Micro_Cone',\n",
      "               'UL94',\n",
      "               'LOI']\n",
      "\n",
      "exp_time_data = {'Antistat': {'exp_time': 5.0,\n",
      "                         'sample_prep_time': 25.0,\n",
      "                         'no_exp_p_day': None,\n",
      "                         'no_exp_p_run': 1.0},\n",
      "                'Rheometer':{'exp_time': 210.0,\n",
      "                             'sample_prep_time': None,\n",
      "                             'no_exp_p_day': None,\n",
      "                             'no_exp_p_run': 1.0}, \n",
      "                'Metrastat':{'exp_time': 180.0,\n",
      "                             'sample_prep_time': 25.0,\n",
      "                             'no_exp_p_day': None,\n",
      "                             'no_exp_p_run': 3.0},\n",
      "                'Ransomat': {'exp_time': 300.0,\n",
      "                             'sample_prep_time': 20.0,\n",
      "                             'no_exp_p_day': None,\n",
      "                             'no_exp_p_run': 8.0},\n",
      "                'Vicat':    {'exp_time': 20.0, #Need more info\n",
      "                             'sample_prep_time': None,\n",
      "                             'no_exp_p_day': None,\n",
      "                             'no_exp_p_run': 5.0},\n",
      "                'TMA':      {'exp_time': None,\n",
      "                             'sample_prep_time': None,\n",
      "                             'no_exp_p_day': 12,\n",
      "                             'no_exp_p_run': 1.0},\n",
      "                'Tensile': {'exp_time': 15.0, #Need more info\n",
      "                             'sample_prep_time': 25.0,\n",
      "                             'no_exp_p_day': None,\n",
      "                             'no_exp_p_run': 1.0},\n",
      "                'Impact':  {'exp_time': 15.0, #Need more info\n",
      "                             'sample_prep_time': 25.0,\n",
      "                             'no_exp_p_day': None,\n",
      "                             'no_exp_p_run': 1.0},\n",
      "                'Cone_Cal': {'exp_time': None,\n",
      "                             'sample_prep_time': 25.0,\n",
      "                             'no_exp_p_day': 14,\n",
      "                             'no_exp_p_run': 1.0},\n",
      "                'Micro_Cone':{'exp_time': None, #Need more info\n",
      "                             'sample_prep_time': None, # Ask Monique\n",
      "                             'no_exp_p_day': 14,\n",
      "                             'no_exp_p_run': 1.0},\n",
      "                'UL94':     {'exp_time': 10.0, #Need more info\n",
      "                             'sample_prep_time': 10.0,\n",
      "                             'no_exp_p_day': None,\n",
      "                             'no_exp_p_run': 1.0},\n",
      "                'LOI':      {'exp_time': None, #Need more info\n",
      "                             'sample_prep_time': None,# As Monique\n",
      "                             'no_exp_p_day': 14,\n",
      "                             'no_exp_p_run': 1.0}}"
     ],
     "language": "python",
     "metadata": {},
     "outputs": [],
     "prompt_number": 3
    },
    {
     "cell_type": "code",
     "collapsed": false,
     "input": [
      "T = zeros([size(experiments), size(deg)]) # In hours\n",
      "no_exp_all = zeros([size(experiments), size(deg)])\n",
      "\n",
      "for col, n in enumerate(deg):\n",
      "    # Calculate the number of terms required\n",
      "    if n == 2.5:\n",
      "        no_terms = comb(n + q - 0.5, n + 0.5) - comb(q, 3)\n",
      "    else:\n",
      "        no_terms = comb(n + q - 1, n)\n",
      "    \n",
      "    for row, exp in enumerate(experiments):\n",
      "        \n",
      "        # Account for multiple runs done at the same time\n",
      "        e_p_run = exp_time_data[exp]['no_exp_p_run']\n",
      "        rem = no_terms%e_p_run\n",
      "        if rem != 0:\n",
      "            no_exp = no_terms + e_p_run - rem\n",
      "        else:\n",
      "            no_exp = no_terms\n",
      "        \n",
      "        # Populate T matrix with the total time required for each experiment degree combination\n",
      "        # On a time per experiment basis\n",
      "        \n",
      "        no_p_day = exp_time_data[exp]['no_exp_p_day']\n",
      "        e_time = exp_time_data[exp]['exp_time']\n",
      "        \n",
      "        if e_time != None and no_p_day != None:\n",
      "            print 'Error: Entries for both time per experiment and exp per day for experiment %s'%exp\n",
      "        \n",
      "        elif e_time != None:\n",
      "            T[row][col] = e_time*no_exp/(60*e_p_run)\n",
      "        \n",
      "        # On a number of experiments per day\n",
      "        elif no_p_day != None:\n",
      "            rem = no_terms%no_p_day\n",
      "            if rem != 0:\n",
      "                no_exp = no_terms + no_p_day - rem\n",
      "            else:\n",
      "                no_exp = no_terms\n",
      "            T[row][col] = 8.0*ceil(no_exp/no_p_day)\n",
      "            \n",
      "        # Add in sample preparation time\n",
      "        sample_prep = exp_time_data[exp]['sample_prep_time']\n",
      "        \n",
      "        if sample_prep != None:\n",
      "            T[row][col] += sample_prep*no_exp/60\n",
      "            \n",
      "        # Populate no of experiments matrix\n",
      "        no_exp_all[row][col] = no_exp\n",
      "            \n",
      "        "
     ],
     "language": "python",
     "metadata": {},
     "outputs": [],
     "prompt_number": 4
    },
    {
     "cell_type": "code",
     "collapsed": false,
     "input": [
      "T"
     ],
     "language": "python",
     "metadata": {},
     "outputs": [
      {
       "metadata": {},
       "output_type": "pyout",
       "prompt_number": 5,
       "text": [
        "array([[   3.        ,   10.5       ,   18.        ,   28.        ],\n",
        "       [  21.        ,   73.5       ,  126.        ,  196.        ],\n",
        "       [   8.5       ,   29.75      ,   51.        ,   80.75      ],\n",
        "       [   7.66666667,   23.        ,   38.33333333,   53.66666667],\n",
        "       [   0.66666667,    1.66666667,    2.66666667,    4.        ],\n",
        "       [   8.        ,   16.        ,   24.        ,   40.        ],\n",
        "       [   4.        ,   14.        ,   24.        ,   37.33333333],\n",
        "       [   4.        ,   14.        ,   24.        ,   37.33333333],\n",
        "       [  13.83333333,   27.66666667,   41.5       ,   55.33333333],\n",
        "       [   8.        ,   16.        ,   24.        ,   32.        ],\n",
        "       [   2.        ,    7.        ,   12.        ,   18.66666667],\n",
        "       [   8.        ,   16.        ,   24.        ,   32.        ]])"
       ]
      }
     ],
     "prompt_number": 5
    },
    {
     "cell_type": "code",
     "collapsed": false,
     "input": [
      "no_exp_all"
     ],
     "language": "python",
     "metadata": {},
     "outputs": [
      {
       "metadata": {},
       "output_type": "pyout",
       "prompt_number": 6,
       "text": [
        "array([[  6.,  21.,  36.,  56.],\n",
        "       [  6.,  21.,  36.,  56.],\n",
        "       [  6.,  21.,  36.,  57.],\n",
        "       [  8.,  24.,  40.,  56.],\n",
        "       [ 10.,  25.,  40.,  60.],\n",
        "       [ 12.,  24.,  36.,  60.],\n",
        "       [  6.,  21.,  36.,  56.],\n",
        "       [  6.,  21.,  36.,  56.],\n",
        "       [ 14.,  28.,  42.,  56.],\n",
        "       [ 14.,  28.,  42.,  56.],\n",
        "       [  6.,  21.,  36.,  56.],\n",
        "       [ 14.,  28.,  42.,  56.]])"
       ]
      }
     ],
     "prompt_number": 6
    },
    {
     "cell_type": "code",
     "collapsed": false,
     "input": [
      "from calc_constants import calc_T"
     ],
     "language": "python",
     "metadata": {},
     "outputs": [],
     "prompt_number": 1
    },
    {
     "cell_type": "code",
     "collapsed": false,
     "input": [
      "calc_T(experiments)"
     ],
     "language": "python",
     "metadata": {},
     "outputs": [
      {
       "metadata": {},
       "output_type": "pyout",
       "prompt_number": 4,
       "text": [
        "(array([[   3.        ,   10.5       ,   18.        ,   28.        ],\n",
        "        [  21.        ,   73.5       ,  126.        ,  196.        ],\n",
        "        [   8.5       ,   29.75      ,   51.        ,   80.75      ],\n",
        "        [   7.66666667,   23.        ,   38.33333333,   53.66666667],\n",
        "        [   0.66666667,    1.66666667,    2.66666667,    4.        ],\n",
        "        [   8.        ,   16.        ,   24.        ,   40.        ],\n",
        "        [   4.        ,   14.        ,   24.        ,   37.33333333],\n",
        "        [   4.        ,   14.        ,   24.        ,   37.33333333],\n",
        "        [  13.83333333,   27.66666667,   41.5       ,   55.33333333],\n",
        "        [   8.        ,   16.        ,   24.        ,   32.        ],\n",
        "        [   2.        ,    7.        ,   12.        ,   18.66666667],\n",
        "        [   8.        ,   16.        ,   24.        ,   32.        ]]),\n",
        " array([[  6.,  21.,  36.,  56.],\n",
        "        [  6.,  21.,  36.,  56.],\n",
        "        [  6.,  21.,  36.,  57.],\n",
        "        [  8.,  24.,  40.,  56.],\n",
        "        [ 10.,  25.,  40.,  60.],\n",
        "        [ 12.,  24.,  36.,  60.],\n",
        "        [  6.,  21.,  36.,  56.],\n",
        "        [  6.,  21.,  36.,  56.],\n",
        "        [ 14.,  28.,  42.,  56.],\n",
        "        [ 14.,  28.,  42.,  56.],\n",
        "        [  6.,  21.,  36.,  56.],\n",
        "        [ 14.,  28.,  42.,  56.]]))"
       ]
      }
     ],
     "prompt_number": 4
    },
    {
     "cell_type": "code",
     "collapsed": false,
     "input": [
      "experiments = ['Antistat',\n",
      "               'Rheometer',\n",
      "               'Metrastat',\n",
      "               'Ransomat',\n",
      "               'Vicat',\n",
      "               'TMA',\n",
      "               'Tensile',\n",
      "               'Impact',\n",
      "               'Cone_Cal',\n",
      "               'Micro_Cone',\n",
      "               'UL94',\n",
      "               'LOI']"
     ],
     "language": "python",
     "metadata": {},
     "outputs": [],
     "prompt_number": 3
    },
    {
     "cell_type": "code",
     "collapsed": false,
     "input": [],
     "language": "python",
     "metadata": {},
     "outputs": []
    }
   ],
   "metadata": {}
  }
 ]
}