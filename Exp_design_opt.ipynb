{
 "metadata": {
  "name": "",
  "signature": "sha256:b6341f5b4f3cf95ada454412ad376b975052b8b0a7cc60e2bc1d86d4b202fa5f"
 },
 "nbformat": 3,
 "nbformat_minor": 0,
 "worksheets": [
  {
   "cells": [
    {
     "cell_type": "markdown",
     "metadata": {},
     "source": [
      "## Optimisation of the Experimental Design for the Flexible PVC Modelling Experiments\n",
      "Allocation of Degree and Student for each experiment"
     ]
    },
    {
     "cell_type": "code",
     "collapsed": false,
     "input": [
      "from pulp import *\n",
      "% pylab inline"
     ],
     "language": "python",
     "metadata": {},
     "outputs": [
      {
       "output_type": "stream",
       "stream": "stdout",
       "text": [
        "Populating the interactive namespace from numpy and matplotlib\n"
       ]
      },
      {
       "output_type": "stream",
       "stream": "stderr",
       "text": [
        "WARNING: pylab import has clobbered these variables: ['permutation', 'log']\n",
        "`%matplotlib` prevents importing * from pylab and numpy\n"
       ]
      }
     ],
     "prompt_number": 1
    },
    {
     "cell_type": "markdown",
     "metadata": {},
     "source": [
      "####Define Design Variables"
     ]
    },
    {
     "cell_type": "code",
     "collapsed": false,
     "input": [
      "#Degree allocation for each Experiment\n",
      "no_exp = 5\n",
      "experiments = [str(i + 1) for i in range(no_exp)]\n",
      "degrees = ['1', '2', '2.5', '3'] \n",
      "\n",
      "#Binary variables for each combination of experiment and degree \n",
      "N = LpVariable.dicts('exp_deg', (experiments, degrees), 0, 1, 'Integer')\n",
      "\n",
      "#Allocation of Students to Degree\n",
      "no_students = 4\n",
      "students = [str(i + 1) for i in range(no_students)]\n",
      "\n",
      "#Binary variables for each combination of experiment and student\n",
      "S = LpVariable.dicts('exp_stu', (experiments, students), 0, 1, 'Integer')\n",
      "\n",
      "#Continuous variable for total time required for each experiment\n",
      "tau = LpVariable.dicts('total_time', experiments)\n",
      "\n",
      "#Continuous variable introduces in glover formulation, z_ji = S_ij*tau_i\n",
      "z = LpVariable.dicts('stu_exp', (students, experiments))"
     ],
     "language": "python",
     "metadata": {},
     "outputs": [],
     "prompt_number": 2
    },
    {
     "cell_type": "markdown",
     "metadata": {},
     "source": [
      "####Define Constants"
     ]
    },
    {
     "cell_type": "code",
     "collapsed": false,
     "input": [
      "d = [1.0, 2.0, 2.5, 3.0] #Degree values\n",
      "\n",
      "U = 20.0 #Largest value in T matrix\n",
      "L = 1.0 #Smallest value in T matrix\n",
      "\n",
      "p = [123.0, 125.0, 114.0, 113.0] #Time limit for each student"
     ],
     "language": "python",
     "metadata": {},
     "outputs": [],
     "prompt_number": 3
    },
    {
     "cell_type": "code",
     "collapsed": false,
     "input": [
      "#T will be calculated in seperate file\n",
      "T = []\n",
      "time_per_exp = [1.0, 2.1, 0.2, 2.6, 1.2]\n",
      "\n",
      "for t in time_per_exp:\n",
      "    T_row = [t*deg**3 for deg in d]\n",
      "    T.append(T_row)"
     ],
     "language": "python",
     "metadata": {},
     "outputs": [],
     "prompt_number": 4
    },
    {
     "cell_type": "code",
     "collapsed": false,
     "input": [
      "mm_lambda_1 = 1.0 #Minimax constraint minimum degree value\n",
      "mm_lambda_2 = 0.0 #Minimax constraint minimum no. experiments per student"
     ],
     "language": "python",
     "metadata": {},
     "outputs": [],
     "prompt_number": 7
    },
    {
     "cell_type": "markdown",
     "metadata": {},
     "source": [
      "####Initiate Problem"
     ]
    },
    {
     "cell_type": "code",
     "collapsed": false,
     "input": [
      "prob = LpProblem('Optimisation of Experimental Design', LpMaximize)"
     ],
     "language": "python",
     "metadata": {},
     "outputs": [],
     "prompt_number": 8
    },
    {
     "cell_type": "markdown",
     "metadata": {},
     "source": [
      "####Define Objective function"
     ]
    },
    {
     "cell_type": "code",
     "collapsed": false,
     "input": [
      "obj = []\n",
      "for i in experiments:\n",
      "    obj.append(sum([d[n]*N[i][j] for n, j in enumerate(degrees)]))\n",
      "\n",
      "prob += sum(obj)"
     ],
     "language": "python",
     "metadata": {},
     "outputs": [],
     "prompt_number": 9
    },
    {
     "cell_type": "markdown",
     "metadata": {},
     "source": [
      "#### Define Constraints\n",
      "Logical Constraints"
     ]
    },
    {
     "cell_type": "code",
     "collapsed": false,
     "input": [
      "#Logical constraint on degrees of experiments\n",
      "\n",
      "for i in experiments:\n",
      "    prob += sum([N[i][j] for j in degrees]) == 1, 'Logic constr on deg of exp %s'%i"
     ],
     "language": "python",
     "metadata": {},
     "outputs": [],
     "prompt_number": 10
    },
    {
     "cell_type": "code",
     "collapsed": false,
     "input": [
      "#Logical constraint on allocations of students to experiments\n",
      "\n",
      "for i in experiments:\n",
      "    prob += sum([S[i][j] for j in students]) == 1, 'Logic constr on stu per exp %s'%i"
     ],
     "language": "python",
     "metadata": {},
     "outputs": [],
     "prompt_number": 11
    },
    {
     "cell_type": "markdown",
     "metadata": {},
     "source": [
      "Resource Constraints (Glover Constraints)"
     ]
    },
    {
     "cell_type": "code",
     "collapsed": false,
     "input": [
      "for n, j in enumerate(students):\n",
      "    prob += sum([z[j][i] for i in experiments]) <= p[n], 'Stu %s time constr'%j \n",
      "    for i in experiments:\n",
      "        prob += z[j][i] <= U*S[i][j], 'Glover constr 1 up exp %s stu %s'%(i, j)\n",
      "        prob += z[j][i] >= L*S[i][j], 'Glover constr 1 low exp %s stu %s'%(i, j)\n",
      "        prob += z[j][i] <= tau[i] - L*(1 - S[i][j]), 'Glover constr 2 low exp %s stu %s'%(i, j)\n",
      "        prob += z[j][i] >= tau[i] - U*(1 - S[i][j]), 'Glover constr 2 up exp %s stu %s'%(i, j)"
     ],
     "language": "python",
     "metadata": {},
     "outputs": [],
     "prompt_number": 12
    },
    {
     "cell_type": "markdown",
     "metadata": {},
     "source": [
      "Calculation of Tau Constraint"
     ]
    },
    {
     "cell_type": "code",
     "collapsed": false,
     "input": [
      "for m, i in enumerate(experiments):\n",
      "    prob += sum([T[m][n]*N[i][j] for n, j in enumerate(degrees)]) == tau[i],'Calc of tau %s constr'%i "
     ],
     "language": "python",
     "metadata": {},
     "outputs": [],
     "prompt_number": 13
    },
    {
     "cell_type": "markdown",
     "metadata": {},
     "source": [
      "Minimax Constraint (Minimum Degree)"
     ]
    },
    {
     "cell_type": "code",
     "collapsed": false,
     "input": [
      "for i in experiments:\n",
      "    prob += sum([d[n]*N[i][j] for n, j in enumerate(degrees)]) >= mm_lambda_1, 'Minimax 1 constr exp %s'%i"
     ],
     "language": "python",
     "metadata": {},
     "outputs": [],
     "prompt_number": 14
    },
    {
     "cell_type": "markdown",
     "metadata": {},
     "source": [
      "Minimax Constraint (Minimum no. of Experiments per Student)"
     ]
    },
    {
     "cell_type": "code",
     "collapsed": false,
     "input": [
      "for j in students:\n",
      "    prob += sum([S[i][j] for i in experiments]) >= mm_lambda_2, 'Minimax 2 constr stu %s'%j"
     ],
     "language": "python",
     "metadata": {},
     "outputs": [],
     "prompt_number": 15
    },
    {
     "cell_type": "markdown",
     "metadata": {},
     "source": [
      "####Write Problem to File"
     ]
    },
    {
     "cell_type": "code",
     "collapsed": false,
     "input": [
      "#prob.writeLP('first_attempt.lp')"
     ],
     "language": "python",
     "metadata": {},
     "outputs": [],
     "prompt_number": 16
    },
    {
     "cell_type": "markdown",
     "metadata": {},
     "source": [
      "####Solve Problem"
     ]
    },
    {
     "cell_type": "code",
     "collapsed": false,
     "input": [
      "prob.solve()"
     ],
     "language": "python",
     "metadata": {},
     "outputs": [
      {
       "metadata": {},
       "output_type": "pyout",
       "prompt_number": 17,
       "text": [
        "1"
       ]
      }
     ],
     "prompt_number": 17
    },
    {
     "cell_type": "markdown",
     "metadata": {},
     "source": [
      "####Report Solution"
     ]
    },
    {
     "cell_type": "markdown",
     "metadata": {},
     "source": [
      "Solution Status"
     ]
    },
    {
     "cell_type": "code",
     "collapsed": false,
     "input": [
      "print 'Status:', LpStatus[prob.status]"
     ],
     "language": "python",
     "metadata": {},
     "outputs": [
      {
       "output_type": "stream",
       "stream": "stdout",
       "text": [
        "Status: Optimal\n"
       ]
      }
     ],
     "prompt_number": 18
    },
    {
     "cell_type": "markdown",
     "metadata": {},
     "source": [
      "Converting List of Variables to Design Variable Matrices"
     ]
    },
    {
     "cell_type": "code",
     "collapsed": false,
     "input": [
      "no_deg = size(degrees)\n",
      "N_result = []\n",
      "S_result = []\n",
      "z_result = []\n",
      "tau_result = []\n",
      "row = []\n",
      "v_no_N = no_exp*no_deg - 1\n",
      "v_no_S = v_no_N + no_exp*no_students\n",
      "v_no_z = v_no_S + no_students*no_exp\n",
      "\n",
      "for n, v in enumerate(prob.variables()):\n",
      "    if n <= v_no_N:\n",
      "        row.append(v.varValue)\n",
      "        if size(row) == no_deg:\n",
      "            N_result.append(row)\n",
      "            row = []\n",
      "    elif n <= v_no_S:\n",
      "        row.append(v.varValue)\n",
      "        if size(row) == no_students:\n",
      "            S_result.append(row)\n",
      "            row = []\n",
      "    elif n <= v_no_z:\n",
      "        row.append(v.varValue)\n",
      "        if size(row) == no_exp:\n",
      "            z_result.append(row)\n",
      "            row = []\n",
      "    else:\n",
      "        tau_result.append(v.varValue)"
     ],
     "language": "python",
     "metadata": {},
     "outputs": [],
     "prompt_number": 19
    },
    {
     "cell_type": "code",
     "collapsed": false,
     "input": [
      "print 'Degree allocation for each experiment'\n",
      "print '_______________________'\n",
      "for exp_no, row in enumerate(N_result):\n",
      "    for deg_no, val in enumerate(row):\n",
      "        if val == 1:\n",
      "            print 'Experiment', experiments[exp_no], 'Degree', degrees[deg_no]\n",
      "            \n",
      "print '_______________________'\n",
      "print ''\n",
      "print 'Student allocation for each experiment'\n",
      "print '_______________________'\n",
      "\n",
      "for exp_no, row in enumerate(S_result):\n",
      "    for stu_no, val in enumerate(row):\n",
      "        if val == 1:\n",
      "            print 'Experiment', experiments[exp_no], 'Student', students[stu_no] \n",
      "print '_______________________'        \n",
      "    \n",
      "        "
     ],
     "language": "python",
     "metadata": {},
     "outputs": [
      {
       "output_type": "stream",
       "stream": "stdout",
       "text": [
        "Degree allocation for each experiment\n",
        "_______________________\n",
        "Experiment 1 Degree 2.5\n",
        "Experiment 2 Degree 2\n",
        "Experiment 3 Degree 3\n",
        "Experiment 4 Degree 1\n",
        "Experiment 5 Degree 2.5\n",
        "_______________________\n",
        "\n",
        "Student allocation for each experiment\n",
        "_______________________\n",
        "Experiment 1 Student 3\n",
        "Experiment 2 Student 3\n",
        "Experiment 3 Student 1\n",
        "Experiment 4 Student 3\n",
        "Experiment 5 Student 3\n",
        "_______________________\n"
       ]
      }
     ],
     "prompt_number": 20
    },
    {
     "cell_type": "markdown",
     "metadata": {},
     "source": [
      "Optimum Objective Function Value"
     ]
    },
    {
     "cell_type": "code",
     "collapsed": false,
     "input": [
      "print 'Objective =', value(prob.objective)"
     ],
     "language": "python",
     "metadata": {},
     "outputs": [
      {
       "output_type": "stream",
       "stream": "stdout",
       "text": [
        "Objective = 11.0\n"
       ]
      }
     ],
     "prompt_number": 21
    },
    {
     "cell_type": "code",
     "collapsed": false,
     "input": [],
     "language": "python",
     "metadata": {},
     "outputs": [],
     "prompt_number": 21
    },
    {
     "cell_type": "code",
     "collapsed": false,
     "input": [],
     "language": "python",
     "metadata": {},
     "outputs": []
    }
   ],
   "metadata": {}
  }
 ]
}