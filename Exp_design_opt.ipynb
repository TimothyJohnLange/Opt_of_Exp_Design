{
 "metadata": {
  "name": "",
  "signature": "sha256:cbbfc0d55b5392d03478e999a2367e31adf60096ac1ecc42aca9f66708a3ca9c"
 },
 "nbformat": 3,
 "nbformat_minor": 0,
 "worksheets": [
  {
   "cells": [
    {
     "cell_type": "markdown",
     "metadata": {},
     "source": [
      "## Optimisation of the Experimental Design for the Flexible PVC Modelling Experiments\n",
      "Allocation of Degree and Student for each experiment"
     ]
    },
    {
     "cell_type": "code",
     "collapsed": false,
     "input": [
      "from pulp import *\n",
      "% pylab inline"
     ],
     "language": "python",
     "metadata": {},
     "outputs": [
      {
       "output_type": "stream",
       "stream": "stdout",
       "text": [
        "Populating the interactive namespace from numpy and matplotlib\n"
       ]
      },
      {
       "output_type": "stream",
       "stream": "stderr",
       "text": [
        "WARNING: pylab import has clobbered these variables: ['degrees', 'permutation', 'log']\n",
        "`%matplotlib` prevents importing * from pylab and numpy\n"
       ]
      }
     ],
     "prompt_number": 21
    },
    {
     "cell_type": "markdown",
     "metadata": {},
     "source": [
      "####Define Design Variables"
     ]
    },
    {
     "cell_type": "code",
     "collapsed": false,
     "input": [
      "#Degree allocation for each Experiment\n",
      "no_exp = 5\n",
      "#experiments = [str(i + 1) for i in range(no_exp)]\n",
      "experiments = ['Antistat',\n",
      "               'Rheometer',\n",
      "               'Metrastat',\n",
      "               'Ransomat',\n",
      "               'TMA']\n",
      "degrees = ['1', '2', '2.5', '3'] \n",
      "\n",
      "#Binary variables for each combination of experiment and degree \n",
      "N = LpVariable.dicts('exp_deg', (experiments, degrees), 0, 1, 'Integer')\n",
      "\n",
      "#Allocation of Students to Degree\n",
      "no_students = 4\n",
      "students = [str(i + 1) for i in range(no_students)]\n",
      "\n",
      "#Binary variables for each combination of experiment and student\n",
      "S = LpVariable.dicts('exp_stu', (experiments, students), 0, 1, 'Integer')\n",
      "\n",
      "#Continuous variable for total time required for each experiment\n",
      "tau = LpVariable.dicts('total_time', experiments)\n",
      "\n",
      "#Continuous variable introduces in glover formulation, z_ji = S_ij*tau_i\n",
      "z = LpVariable.dicts('stu_exp', (students, experiments))"
     ],
     "language": "python",
     "metadata": {},
     "outputs": [],
     "prompt_number": 22
    },
    {
     "cell_type": "markdown",
     "metadata": {},
     "source": [
      "####Define Constants"
     ]
    },
    {
     "cell_type": "code",
     "collapsed": false,
     "input": [
      "d = [1.0, 2.0, 2.5, 3.0] #Degree values\n",
      "\n",
      "U = 20.0 #Largest value in T matrix\n",
      "L = 1.0 #Smallest value in T matrix\n",
      "\n",
      "p = [123.0, 125.0, 114.0, 113.0] #Time limit for each student"
     ],
     "language": "python",
     "metadata": {},
     "outputs": [],
     "prompt_number": 23
    },
    {
     "cell_type": "code",
     "collapsed": false,
     "input": [
      "#T will be calculated in seperate file\n",
      "T = []\n",
      "time_per_exp = [1.0, 2.1, 0.2, 2.6, 1.2]\n",
      "\n",
      "for t in time_per_exp:\n",
      "    T_row = [t*deg**3 for deg in d]\n",
      "    T.append(T_row)"
     ],
     "language": "python",
     "metadata": {},
     "outputs": [],
     "prompt_number": 24
    },
    {
     "cell_type": "code",
     "collapsed": false,
     "input": [
      "mm_lambda_1 = 1.0 #Minimax constraint minimum degree value\n",
      "mm_lambda_2 = 0.0 #Minimax constraint minimum no. experiments per student"
     ],
     "language": "python",
     "metadata": {},
     "outputs": [],
     "prompt_number": 25
    },
    {
     "cell_type": "markdown",
     "metadata": {},
     "source": [
      "####Initiate Problem"
     ]
    },
    {
     "cell_type": "code",
     "collapsed": false,
     "input": [
      "prob = LpProblem('Optimisation of Experimental Design', LpMaximize)"
     ],
     "language": "python",
     "metadata": {},
     "outputs": [],
     "prompt_number": 26
    },
    {
     "cell_type": "markdown",
     "metadata": {},
     "source": [
      "####Define Objective function"
     ]
    },
    {
     "cell_type": "code",
     "collapsed": false,
     "input": [
      "obj = []\n",
      "for i in experiments:\n",
      "    obj.append(sum([d[n]*N[i][j] for n, j in enumerate(degrees)]))\n",
      "\n",
      "prob += sum(obj)"
     ],
     "language": "python",
     "metadata": {},
     "outputs": [],
     "prompt_number": 27
    },
    {
     "cell_type": "markdown",
     "metadata": {},
     "source": [
      "#### Define Constraints\n",
      "Logical Constraints"
     ]
    },
    {
     "cell_type": "code",
     "collapsed": false,
     "input": [
      "#Logical constraint on degrees of experiments\n",
      "\n",
      "for i in experiments:\n",
      "    prob += sum([N[i][j] for j in degrees]) == 1, 'Logic constr on deg of exp %s'%i"
     ],
     "language": "python",
     "metadata": {},
     "outputs": [],
     "prompt_number": 28
    },
    {
     "cell_type": "code",
     "collapsed": false,
     "input": [
      "#Logical constraint on allocations of students to experiments\n",
      "\n",
      "for i in experiments:\n",
      "    prob += sum([S[i][j] for j in students]) == 1, 'Logic constr on stu per exp %s'%i"
     ],
     "language": "python",
     "metadata": {},
     "outputs": [],
     "prompt_number": 29
    },
    {
     "cell_type": "markdown",
     "metadata": {},
     "source": [
      "Resource Constraints (Glover Constraints)"
     ]
    },
    {
     "cell_type": "code",
     "collapsed": false,
     "input": [
      "for n, j in enumerate(students):\n",
      "    prob += sum([z[j][i] for i in experiments]) <= p[n], 'Stu %s time constr'%j \n",
      "    for i in experiments:\n",
      "        prob += z[j][i] <= U*S[i][j], 'Glover constr 1 up exp %s stu %s'%(i, j)\n",
      "        prob += z[j][i] >= L*S[i][j], 'Glover constr 1 low exp %s stu %s'%(i, j)\n",
      "        prob += z[j][i] <= tau[i] - L*(1 - S[i][j]), 'Glover constr 2 low exp %s stu %s'%(i, j)\n",
      "        prob += z[j][i] >= tau[i] - U*(1 - S[i][j]), 'Glover constr 2 up exp %s stu %s'%(i, j)"
     ],
     "language": "python",
     "metadata": {},
     "outputs": [],
     "prompt_number": 30
    },
    {
     "cell_type": "markdown",
     "metadata": {},
     "source": [
      "Calculation of Tau Constraint"
     ]
    },
    {
     "cell_type": "code",
     "collapsed": false,
     "input": [
      "for m, i in enumerate(experiments):\n",
      "    prob += sum([T[m][n]*N[i][j] for n, j in enumerate(degrees)]) == tau[i],'Calc of tau %s constr'%i "
     ],
     "language": "python",
     "metadata": {},
     "outputs": [],
     "prompt_number": 31
    },
    {
     "cell_type": "markdown",
     "metadata": {},
     "source": [
      "Minimax Constraint (Minimum Degree)"
     ]
    },
    {
     "cell_type": "code",
     "collapsed": false,
     "input": [
      "for i in experiments:\n",
      "    prob += sum([d[n]*N[i][j] for n, j in enumerate(degrees)]) >= mm_lambda_1, 'Minimax 1 constr exp %s'%i"
     ],
     "language": "python",
     "metadata": {},
     "outputs": [],
     "prompt_number": 32
    },
    {
     "cell_type": "markdown",
     "metadata": {},
     "source": [
      "Minimax Constraint (Minimum no. of Experiments per Student)"
     ]
    },
    {
     "cell_type": "code",
     "collapsed": false,
     "input": [
      "for j in students:\n",
      "    prob += sum([S[i][j] for i in experiments]) >= mm_lambda_2, 'Minimax 2 constr stu %s'%j"
     ],
     "language": "python",
     "metadata": {},
     "outputs": [],
     "prompt_number": 33
    },
    {
     "cell_type": "markdown",
     "metadata": {},
     "source": [
      "####Write Problem to File"
     ]
    },
    {
     "cell_type": "code",
     "collapsed": false,
     "input": [
      "#prob.writeLP('first_attempt.lp')"
     ],
     "language": "python",
     "metadata": {},
     "outputs": [],
     "prompt_number": 34
    },
    {
     "cell_type": "markdown",
     "metadata": {},
     "source": [
      "####Solve Problem"
     ]
    },
    {
     "cell_type": "code",
     "collapsed": false,
     "input": [
      "prob.solve()"
     ],
     "language": "python",
     "metadata": {},
     "outputs": [
      {
       "metadata": {},
       "output_type": "pyout",
       "prompt_number": 35,
       "text": [
        "1"
       ]
      }
     ],
     "prompt_number": 35
    },
    {
     "cell_type": "markdown",
     "metadata": {},
     "source": [
      "####Report Solution"
     ]
    },
    {
     "cell_type": "markdown",
     "metadata": {},
     "source": [
      "Solution Status"
     ]
    },
    {
     "cell_type": "code",
     "collapsed": false,
     "input": [
      "print 'Status:', LpStatus[prob.status]"
     ],
     "language": "python",
     "metadata": {},
     "outputs": [
      {
       "output_type": "stream",
       "stream": "stdout",
       "text": [
        "Status: Optimal\n"
       ]
      }
     ],
     "prompt_number": 36
    },
    {
     "cell_type": "markdown",
     "metadata": {},
     "source": [
      "Converting List of Variables to Design Variable Matrices"
     ]
    },
    {
     "cell_type": "code",
     "collapsed": false,
     "input": [
      "no_deg = size(degrees)\n",
      "N_result = []\n",
      "S_result = []\n",
      "z_result = []\n",
      "tau_result = []\n",
      "row = []\n",
      "v_no_N = no_exp*no_deg - 1\n",
      "v_no_S = v_no_N + no_exp*no_students\n",
      "v_no_z = v_no_S + no_students*no_exp\n",
      "\n",
      "for n, v in enumerate(prob.variables()):\n",
      "    if n <= v_no_N:\n",
      "        row.append(v.varValue)\n",
      "        if size(row) == no_deg:\n",
      "            N_result.append(row)\n",
      "            row = []\n",
      "    elif n <= v_no_S:\n",
      "        row.append(v.varValue)\n",
      "        if size(row) == no_students:\n",
      "            S_result.append(row)\n",
      "            row = []\n",
      "    elif n <= v_no_z:\n",
      "        row.append(v.varValue)\n",
      "        if size(row) == no_exp:\n",
      "            z_result.append(row)\n",
      "            row = []\n",
      "    else:\n",
      "        tau_result.append(v.varValue)"
     ],
     "language": "python",
     "metadata": {},
     "outputs": [],
     "prompt_number": 37
    },
    {
     "cell_type": "code",
     "collapsed": false,
     "input": [
      "print 'Degree allocation for each experiment'\n",
      "print '_______________________'\n",
      "for exp_no, row in enumerate(N_result):\n",
      "    for deg_no, val in enumerate(row):\n",
      "        if val == 1:\n",
      "            print 'Experiment', experiments[exp_no], 'Degree', degrees[deg_no]\n",
      "            \n",
      "print '_______________________'\n",
      "print ''\n",
      "print 'Student allocation for each experiment'\n",
      "print '_______________________'\n",
      "\n",
      "for exp_no, row in enumerate(S_result):\n",
      "    for stu_no, val in enumerate(row):\n",
      "        if val == 1:\n",
      "            print 'Experiment', experiments[exp_no], 'Student', students[stu_no] \n",
      "print '_______________________'        \n",
      "    \n",
      "        "
     ],
     "language": "python",
     "metadata": {},
     "outputs": [
      {
       "output_type": "stream",
       "stream": "stdout",
       "text": [
        "Degree allocation for each experiment\n",
        "_______________________\n",
        "Experiment Antistat Degree 2.5\n",
        "Experiment Rheometer Degree 3\n",
        "Experiment Metrastat Degree 1\n",
        "Experiment Ransomat Degree 2\n",
        "Experiment TMA Degree 2.5\n",
        "_______________________\n",
        "\n",
        "Student allocation for each experiment\n",
        "_______________________\n",
        "Experiment Antistat Student 3\n",
        "Experiment Rheometer Student 3\n",
        "Experiment Metrastat Student 1\n",
        "Experiment Ransomat Student 3\n",
        "Experiment TMA Student 3\n",
        "_______________________\n"
       ]
      }
     ],
     "prompt_number": 38
    },
    {
     "cell_type": "markdown",
     "metadata": {},
     "source": [
      "Optimum Objective Function Value"
     ]
    },
    {
     "cell_type": "code",
     "collapsed": false,
     "input": [
      "print 'Objective =', value(prob.objective)"
     ],
     "language": "python",
     "metadata": {},
     "outputs": [
      {
       "output_type": "stream",
       "stream": "stdout",
       "text": [
        "Objective = 11.0\n"
       ]
      }
     ],
     "prompt_number": 39
    },
    {
     "cell_type": "code",
     "collapsed": false,
     "input": [
      "prob"
     ],
     "language": "python",
     "metadata": {},
     "outputs": [
      {
       "metadata": {},
       "output_type": "pyout",
       "prompt_number": 40,
       "text": [
        "Optimisation of Experimental Design:\n",
        "MAXIMIZE\n",
        "1.0*exp_deg_Antistat_1 + 2.0*exp_deg_Antistat_2 + 2.5*exp_deg_Antistat_2.5 + 3.0*exp_deg_Antistat_3 + 1.0*exp_deg_Metrastat_1 + 2.0*exp_deg_Metrastat_2 + 2.5*exp_deg_Metrastat_2.5 + 3.0*exp_deg_Metrastat_3 + 1.0*exp_deg_Ransomat_1 + 2.0*exp_deg_Ransomat_2 + 2.5*exp_deg_Ransomat_2.5 + 3.0*exp_deg_Ransomat_3 + 1.0*exp_deg_Rheometer_1 + 2.0*exp_deg_Rheometer_2 + 2.5*exp_deg_Rheometer_2.5 + 3.0*exp_deg_Rheometer_3 + 1.0*exp_deg_TMA_1 + 2.0*exp_deg_TMA_2 + 2.5*exp_deg_TMA_2.5 + 3.0*exp_deg_TMA_3 + 0.0\n",
        "SUBJECT TO\n",
        "Logic_constr_on_deg_of_exp_Antistat: exp_deg_Antistat_1 + exp_deg_Antistat_2\n",
        " + exp_deg_Antistat_2.5 + exp_deg_Antistat_3 = 1\n",
        "\n",
        "Logic_constr_on_deg_of_exp_Rheometer: exp_deg_Rheometer_1\n",
        " + exp_deg_Rheometer_2 + exp_deg_Rheometer_2.5 + exp_deg_Rheometer_3 = 1\n",
        "\n",
        "Logic_constr_on_deg_of_exp_Metrastat: exp_deg_Metrastat_1\n",
        " + exp_deg_Metrastat_2 + exp_deg_Metrastat_2.5 + exp_deg_Metrastat_3 = 1\n",
        "\n",
        "Logic_constr_on_deg_of_exp_Ransomat: exp_deg_Ransomat_1 + exp_deg_Ransomat_2\n",
        " + exp_deg_Ransomat_2.5 + exp_deg_Ransomat_3 = 1\n",
        "\n",
        "Logic_constr_on_deg_of_exp_TMA: exp_deg_TMA_1 + exp_deg_TMA_2\n",
        " + exp_deg_TMA_2.5 + exp_deg_TMA_3 = 1\n",
        "\n",
        "Logic_constr_on_stu_per_exp_Antistat: exp_stu_Antistat_1 + exp_stu_Antistat_2\n",
        " + exp_stu_Antistat_3 + exp_stu_Antistat_4 = 1\n",
        "\n",
        "Logic_constr_on_stu_per_exp_Rheometer: exp_stu_Rheometer_1\n",
        " + exp_stu_Rheometer_2 + exp_stu_Rheometer_3 + exp_stu_Rheometer_4 = 1\n",
        "\n",
        "Logic_constr_on_stu_per_exp_Metrastat: exp_stu_Metrastat_1\n",
        " + exp_stu_Metrastat_2 + exp_stu_Metrastat_3 + exp_stu_Metrastat_4 = 1\n",
        "\n",
        "Logic_constr_on_stu_per_exp_Ransomat: exp_stu_Ransomat_1 + exp_stu_Ransomat_2\n",
        " + exp_stu_Ransomat_3 + exp_stu_Ransomat_4 = 1\n",
        "\n",
        "Logic_constr_on_stu_per_exp_TMA: exp_stu_TMA_1 + exp_stu_TMA_2 + exp_stu_TMA_3\n",
        " + exp_stu_TMA_4 = 1\n",
        "\n",
        "Stu_1_time_constr: stu_exp_1_Antistat + stu_exp_1_Metrastat\n",
        " + stu_exp_1_Ransomat + stu_exp_1_Rheometer + stu_exp_1_TMA <= 123\n",
        "\n",
        "Glover_constr_1_up_exp_Antistat_stu_1: - 20 exp_stu_Antistat_1\n",
        " + stu_exp_1_Antistat <= 0\n",
        "\n",
        "Glover_constr_1_low_exp_Antistat_stu_1: - exp_stu_Antistat_1\n",
        " + stu_exp_1_Antistat >= 0\n",
        "\n",
        "Glover_constr_2_low_exp_Antistat_stu_1: - exp_stu_Antistat_1\n",
        " + stu_exp_1_Antistat - total_time_Antistat <= -1\n",
        "\n",
        "Glover_constr_2_up_exp_Antistat_stu_1: - 20 exp_stu_Antistat_1\n",
        " + stu_exp_1_Antistat - total_time_Antistat >= -20\n",
        "\n",
        "Glover_constr_1_up_exp_Rheometer_stu_1: - 20 exp_stu_Rheometer_1\n",
        " + stu_exp_1_Rheometer <= 0\n",
        "\n",
        "Glover_constr_1_low_exp_Rheometer_stu_1: - exp_stu_Rheometer_1\n",
        " + stu_exp_1_Rheometer >= 0\n",
        "\n",
        "Glover_constr_2_low_exp_Rheometer_stu_1: - exp_stu_Rheometer_1\n",
        " + stu_exp_1_Rheometer - total_time_Rheometer <= -1\n",
        "\n",
        "Glover_constr_2_up_exp_Rheometer_stu_1: - 20 exp_stu_Rheometer_1\n",
        " + stu_exp_1_Rheometer - total_time_Rheometer >= -20\n",
        "\n",
        "Glover_constr_1_up_exp_Metrastat_stu_1: - 20 exp_stu_Metrastat_1\n",
        " + stu_exp_1_Metrastat <= 0\n",
        "\n",
        "Glover_constr_1_low_exp_Metrastat_stu_1: - exp_stu_Metrastat_1\n",
        " + stu_exp_1_Metrastat >= 0\n",
        "\n",
        "Glover_constr_2_low_exp_Metrastat_stu_1: - exp_stu_Metrastat_1\n",
        " + stu_exp_1_Metrastat - total_time_Metrastat <= -1\n",
        "\n",
        "Glover_constr_2_up_exp_Metrastat_stu_1: - 20 exp_stu_Metrastat_1\n",
        " + stu_exp_1_Metrastat - total_time_Metrastat >= -20\n",
        "\n",
        "Glover_constr_1_up_exp_Ransomat_stu_1: - 20 exp_stu_Ransomat_1\n",
        " + stu_exp_1_Ransomat <= 0\n",
        "\n",
        "Glover_constr_1_low_exp_Ransomat_stu_1: - exp_stu_Ransomat_1\n",
        " + stu_exp_1_Ransomat >= 0\n",
        "\n",
        "Glover_constr_2_low_exp_Ransomat_stu_1: - exp_stu_Ransomat_1\n",
        " + stu_exp_1_Ransomat - total_time_Ransomat <= -1\n",
        "\n",
        "Glover_constr_2_up_exp_Ransomat_stu_1: - 20 exp_stu_Ransomat_1\n",
        " + stu_exp_1_Ransomat - total_time_Ransomat >= -20\n",
        "\n",
        "Glover_constr_1_up_exp_TMA_stu_1: - 20 exp_stu_TMA_1 + stu_exp_1_TMA <= 0\n",
        "\n",
        "Glover_constr_1_low_exp_TMA_stu_1: - exp_stu_TMA_1 + stu_exp_1_TMA >= 0\n",
        "\n",
        "Glover_constr_2_low_exp_TMA_stu_1: - exp_stu_TMA_1 + stu_exp_1_TMA\n",
        " - total_time_TMA <= -1\n",
        "\n",
        "Glover_constr_2_up_exp_TMA_stu_1: - 20 exp_stu_TMA_1 + stu_exp_1_TMA\n",
        " - total_time_TMA >= -20\n",
        "\n",
        "Stu_2_time_constr: stu_exp_2_Antistat + stu_exp_2_Metrastat\n",
        " + stu_exp_2_Ransomat + stu_exp_2_Rheometer + stu_exp_2_TMA <= 125\n",
        "\n",
        "Glover_constr_1_up_exp_Antistat_stu_2: - 20 exp_stu_Antistat_2\n",
        " + stu_exp_2_Antistat <= 0\n",
        "\n",
        "Glover_constr_1_low_exp_Antistat_stu_2: - exp_stu_Antistat_2\n",
        " + stu_exp_2_Antistat >= 0\n",
        "\n",
        "Glover_constr_2_low_exp_Antistat_stu_2: - exp_stu_Antistat_2\n",
        " + stu_exp_2_Antistat - total_time_Antistat <= -1\n",
        "\n",
        "Glover_constr_2_up_exp_Antistat_stu_2: - 20 exp_stu_Antistat_2\n",
        " + stu_exp_2_Antistat - total_time_Antistat >= -20\n",
        "\n",
        "Glover_constr_1_up_exp_Rheometer_stu_2: - 20 exp_stu_Rheometer_2\n",
        " + stu_exp_2_Rheometer <= 0\n",
        "\n",
        "Glover_constr_1_low_exp_Rheometer_stu_2: - exp_stu_Rheometer_2\n",
        " + stu_exp_2_Rheometer >= 0\n",
        "\n",
        "Glover_constr_2_low_exp_Rheometer_stu_2: - exp_stu_Rheometer_2\n",
        " + stu_exp_2_Rheometer - total_time_Rheometer <= -1\n",
        "\n",
        "Glover_constr_2_up_exp_Rheometer_stu_2: - 20 exp_stu_Rheometer_2\n",
        " + stu_exp_2_Rheometer - total_time_Rheometer >= -20\n",
        "\n",
        "Glover_constr_1_up_exp_Metrastat_stu_2: - 20 exp_stu_Metrastat_2\n",
        " + stu_exp_2_Metrastat <= 0\n",
        "\n",
        "Glover_constr_1_low_exp_Metrastat_stu_2: - exp_stu_Metrastat_2\n",
        " + stu_exp_2_Metrastat >= 0\n",
        "\n",
        "Glover_constr_2_low_exp_Metrastat_stu_2: - exp_stu_Metrastat_2\n",
        " + stu_exp_2_Metrastat - total_time_Metrastat <= -1\n",
        "\n",
        "Glover_constr_2_up_exp_Metrastat_stu_2: - 20 exp_stu_Metrastat_2\n",
        " + stu_exp_2_Metrastat - total_time_Metrastat >= -20\n",
        "\n",
        "Glover_constr_1_up_exp_Ransomat_stu_2: - 20 exp_stu_Ransomat_2\n",
        " + stu_exp_2_Ransomat <= 0\n",
        "\n",
        "Glover_constr_1_low_exp_Ransomat_stu_2: - exp_stu_Ransomat_2\n",
        " + stu_exp_2_Ransomat >= 0\n",
        "\n",
        "Glover_constr_2_low_exp_Ransomat_stu_2: - exp_stu_Ransomat_2\n",
        " + stu_exp_2_Ransomat - total_time_Ransomat <= -1\n",
        "\n",
        "Glover_constr_2_up_exp_Ransomat_stu_2: - 20 exp_stu_Ransomat_2\n",
        " + stu_exp_2_Ransomat - total_time_Ransomat >= -20\n",
        "\n",
        "Glover_constr_1_up_exp_TMA_stu_2: - 20 exp_stu_TMA_2 + stu_exp_2_TMA <= 0\n",
        "\n",
        "Glover_constr_1_low_exp_TMA_stu_2: - exp_stu_TMA_2 + stu_exp_2_TMA >= 0\n",
        "\n",
        "Glover_constr_2_low_exp_TMA_stu_2: - exp_stu_TMA_2 + stu_exp_2_TMA\n",
        " - total_time_TMA <= -1\n",
        "\n",
        "Glover_constr_2_up_exp_TMA_stu_2: - 20 exp_stu_TMA_2 + stu_exp_2_TMA\n",
        " - total_time_TMA >= -20\n",
        "\n",
        "Stu_3_time_constr: stu_exp_3_Antistat + stu_exp_3_Metrastat\n",
        " + stu_exp_3_Ransomat + stu_exp_3_Rheometer + stu_exp_3_TMA <= 114\n",
        "\n",
        "Glover_constr_1_up_exp_Antistat_stu_3: - 20 exp_stu_Antistat_3\n",
        " + stu_exp_3_Antistat <= 0\n",
        "\n",
        "Glover_constr_1_low_exp_Antistat_stu_3: - exp_stu_Antistat_3\n",
        " + stu_exp_3_Antistat >= 0\n",
        "\n",
        "Glover_constr_2_low_exp_Antistat_stu_3: - exp_stu_Antistat_3\n",
        " + stu_exp_3_Antistat - total_time_Antistat <= -1\n",
        "\n",
        "Glover_constr_2_up_exp_Antistat_stu_3: - 20 exp_stu_Antistat_3\n",
        " + stu_exp_3_Antistat - total_time_Antistat >= -20\n",
        "\n",
        "Glover_constr_1_up_exp_Rheometer_stu_3: - 20 exp_stu_Rheometer_3\n",
        " + stu_exp_3_Rheometer <= 0\n",
        "\n",
        "Glover_constr_1_low_exp_Rheometer_stu_3: - exp_stu_Rheometer_3\n",
        " + stu_exp_3_Rheometer >= 0\n",
        "\n",
        "Glover_constr_2_low_exp_Rheometer_stu_3: - exp_stu_Rheometer_3\n",
        " + stu_exp_3_Rheometer - total_time_Rheometer <= -1\n",
        "\n",
        "Glover_constr_2_up_exp_Rheometer_stu_3: - 20 exp_stu_Rheometer_3\n",
        " + stu_exp_3_Rheometer - total_time_Rheometer >= -20\n",
        "\n",
        "Glover_constr_1_up_exp_Metrastat_stu_3: - 20 exp_stu_Metrastat_3\n",
        " + stu_exp_3_Metrastat <= 0\n",
        "\n",
        "Glover_constr_1_low_exp_Metrastat_stu_3: - exp_stu_Metrastat_3\n",
        " + stu_exp_3_Metrastat >= 0\n",
        "\n",
        "Glover_constr_2_low_exp_Metrastat_stu_3: - exp_stu_Metrastat_3\n",
        " + stu_exp_3_Metrastat - total_time_Metrastat <= -1\n",
        "\n",
        "Glover_constr_2_up_exp_Metrastat_stu_3: - 20 exp_stu_Metrastat_3\n",
        " + stu_exp_3_Metrastat - total_time_Metrastat >= -20\n",
        "\n",
        "Glover_constr_1_up_exp_Ransomat_stu_3: - 20 exp_stu_Ransomat_3\n",
        " + stu_exp_3_Ransomat <= 0\n",
        "\n",
        "Glover_constr_1_low_exp_Ransomat_stu_3: - exp_stu_Ransomat_3\n",
        " + stu_exp_3_Ransomat >= 0\n",
        "\n",
        "Glover_constr_2_low_exp_Ransomat_stu_3: - exp_stu_Ransomat_3\n",
        " + stu_exp_3_Ransomat - total_time_Ransomat <= -1\n",
        "\n",
        "Glover_constr_2_up_exp_Ransomat_stu_3: - 20 exp_stu_Ransomat_3\n",
        " + stu_exp_3_Ransomat - total_time_Ransomat >= -20\n",
        "\n",
        "Glover_constr_1_up_exp_TMA_stu_3: - 20 exp_stu_TMA_3 + stu_exp_3_TMA <= 0\n",
        "\n",
        "Glover_constr_1_low_exp_TMA_stu_3: - exp_stu_TMA_3 + stu_exp_3_TMA >= 0\n",
        "\n",
        "Glover_constr_2_low_exp_TMA_stu_3: - exp_stu_TMA_3 + stu_exp_3_TMA\n",
        " - total_time_TMA <= -1\n",
        "\n",
        "Glover_constr_2_up_exp_TMA_stu_3: - 20 exp_stu_TMA_3 + stu_exp_3_TMA\n",
        " - total_time_TMA >= -20\n",
        "\n",
        "Stu_4_time_constr: stu_exp_4_Antistat + stu_exp_4_Metrastat\n",
        " + stu_exp_4_Ransomat + stu_exp_4_Rheometer + stu_exp_4_TMA <= 113\n",
        "\n",
        "Glover_constr_1_up_exp_Antistat_stu_4: - 20 exp_stu_Antistat_4\n",
        " + stu_exp_4_Antistat <= 0\n",
        "\n",
        "Glover_constr_1_low_exp_Antistat_stu_4: - exp_stu_Antistat_4\n",
        " + stu_exp_4_Antistat >= 0\n",
        "\n",
        "Glover_constr_2_low_exp_Antistat_stu_4: - exp_stu_Antistat_4\n",
        " + stu_exp_4_Antistat - total_time_Antistat <= -1\n",
        "\n",
        "Glover_constr_2_up_exp_Antistat_stu_4: - 20 exp_stu_Antistat_4\n",
        " + stu_exp_4_Antistat - total_time_Antistat >= -20\n",
        "\n",
        "Glover_constr_1_up_exp_Rheometer_stu_4: - 20 exp_stu_Rheometer_4\n",
        " + stu_exp_4_Rheometer <= 0\n",
        "\n",
        "Glover_constr_1_low_exp_Rheometer_stu_4: - exp_stu_Rheometer_4\n",
        " + stu_exp_4_Rheometer >= 0\n",
        "\n",
        "Glover_constr_2_low_exp_Rheometer_stu_4: - exp_stu_Rheometer_4\n",
        " + stu_exp_4_Rheometer - total_time_Rheometer <= -1\n",
        "\n",
        "Glover_constr_2_up_exp_Rheometer_stu_4: - 20 exp_stu_Rheometer_4\n",
        " + stu_exp_4_Rheometer - total_time_Rheometer >= -20\n",
        "\n",
        "Glover_constr_1_up_exp_Metrastat_stu_4: - 20 exp_stu_Metrastat_4\n",
        " + stu_exp_4_Metrastat <= 0\n",
        "\n",
        "Glover_constr_1_low_exp_Metrastat_stu_4: - exp_stu_Metrastat_4\n",
        " + stu_exp_4_Metrastat >= 0\n",
        "\n",
        "Glover_constr_2_low_exp_Metrastat_stu_4: - exp_stu_Metrastat_4\n",
        " + stu_exp_4_Metrastat - total_time_Metrastat <= -1\n",
        "\n",
        "Glover_constr_2_up_exp_Metrastat_stu_4: - 20 exp_stu_Metrastat_4\n",
        " + stu_exp_4_Metrastat - total_time_Metrastat >= -20\n",
        "\n",
        "Glover_constr_1_up_exp_Ransomat_stu_4: - 20 exp_stu_Ransomat_4\n",
        " + stu_exp_4_Ransomat <= 0\n",
        "\n",
        "Glover_constr_1_low_exp_Ransomat_stu_4: - exp_stu_Ransomat_4\n",
        " + stu_exp_4_Ransomat >= 0\n",
        "\n",
        "Glover_constr_2_low_exp_Ransomat_stu_4: - exp_stu_Ransomat_4\n",
        " + stu_exp_4_Ransomat - total_time_Ransomat <= -1\n",
        "\n",
        "Glover_constr_2_up_exp_Ransomat_stu_4: - 20 exp_stu_Ransomat_4\n",
        " + stu_exp_4_Ransomat - total_time_Ransomat >= -20\n",
        "\n",
        "Glover_constr_1_up_exp_TMA_stu_4: - 20 exp_stu_TMA_4 + stu_exp_4_TMA <= 0\n",
        "\n",
        "Glover_constr_1_low_exp_TMA_stu_4: - exp_stu_TMA_4 + stu_exp_4_TMA >= 0\n",
        "\n",
        "Glover_constr_2_low_exp_TMA_stu_4: - exp_stu_TMA_4 + stu_exp_4_TMA\n",
        " - total_time_TMA <= -1\n",
        "\n",
        "Glover_constr_2_up_exp_TMA_stu_4: - 20 exp_stu_TMA_4 + stu_exp_4_TMA\n",
        " - total_time_TMA >= -20\n",
        "\n",
        "Calc_of_tau_Antistat_constr: exp_deg_Antistat_1 + 8 exp_deg_Antistat_2\n",
        " + 15.625 exp_deg_Antistat_2.5 + 27 exp_deg_Antistat_3 - total_time_Antistat\n",
        " = 0\n",
        "\n",
        "Calc_of_tau_Rheometer_constr: 2.1 exp_deg_Rheometer_1\n",
        " + 16.8 exp_deg_Rheometer_2 + 32.8125 exp_deg_Rheometer_2.5\n",
        " + 56.7 exp_deg_Rheometer_3 - total_time_Rheometer = 0\n",
        "\n",
        "Calc_of_tau_Metrastat_constr: 0.2 exp_deg_Metrastat_1\n",
        " + 1.6 exp_deg_Metrastat_2 + 3.125 exp_deg_Metrastat_2.5\n",
        " + 5.4 exp_deg_Metrastat_3 - total_time_Metrastat = 0\n",
        "\n",
        "Calc_of_tau_Ransomat_constr: 2.6 exp_deg_Ransomat_1 + 20.8 exp_deg_Ransomat_2\n",
        " + 40.625 exp_deg_Ransomat_2.5 + 70.2 exp_deg_Ransomat_3 - total_time_Ransomat\n",
        " = 0\n",
        "\n",
        "Calc_of_tau_TMA_constr: 1.2 exp_deg_TMA_1 + 9.6 exp_deg_TMA_2\n",
        " + 18.75 exp_deg_TMA_2.5 + 32.4 exp_deg_TMA_3 - total_time_TMA = 0\n",
        "\n",
        "Minimax_1_constr_exp_Antistat: exp_deg_Antistat_1 + 2 exp_deg_Antistat_2\n",
        " + 2.5 exp_deg_Antistat_2.5 + 3 exp_deg_Antistat_3 >= 1\n",
        "\n",
        "Minimax_1_constr_exp_Rheometer: exp_deg_Rheometer_1 + 2 exp_deg_Rheometer_2\n",
        " + 2.5 exp_deg_Rheometer_2.5 + 3 exp_deg_Rheometer_3 >= 1\n",
        "\n",
        "Minimax_1_constr_exp_Metrastat: exp_deg_Metrastat_1 + 2 exp_deg_Metrastat_2\n",
        " + 2.5 exp_deg_Metrastat_2.5 + 3 exp_deg_Metrastat_3 >= 1\n",
        "\n",
        "Minimax_1_constr_exp_Ransomat: exp_deg_Ransomat_1 + 2 exp_deg_Ransomat_2\n",
        " + 2.5 exp_deg_Ransomat_2.5 + 3 exp_deg_Ransomat_3 >= 1\n",
        "\n",
        "Minimax_1_constr_exp_TMA: exp_deg_TMA_1 + 2 exp_deg_TMA_2\n",
        " + 2.5 exp_deg_TMA_2.5 + 3 exp_deg_TMA_3 >= 1\n",
        "\n",
        "Minimax_2_constr_stu_1: exp_stu_Antistat_1 + exp_stu_Metrastat_1\n",
        " + exp_stu_Ransomat_1 + exp_stu_Rheometer_1 + exp_stu_TMA_1 >= 0\n",
        "\n",
        "Minimax_2_constr_stu_2: exp_stu_Antistat_2 + exp_stu_Metrastat_2\n",
        " + exp_stu_Ransomat_2 + exp_stu_Rheometer_2 + exp_stu_TMA_2 >= 0\n",
        "\n",
        "Minimax_2_constr_stu_3: exp_stu_Antistat_3 + exp_stu_Metrastat_3\n",
        " + exp_stu_Ransomat_3 + exp_stu_Rheometer_3 + exp_stu_TMA_3 >= 0\n",
        "\n",
        "Minimax_2_constr_stu_4: exp_stu_Antistat_4 + exp_stu_Metrastat_4\n",
        " + exp_stu_Ransomat_4 + exp_stu_Rheometer_4 + exp_stu_TMA_4 >= 0\n",
        "\n",
        "VARIABLES\n",
        "0 <= exp_deg_Antistat_1 <= 1 Integer\n",
        "0 <= exp_deg_Antistat_2 <= 1 Integer\n",
        "0 <= exp_deg_Antistat_2.5 <= 1 Integer\n",
        "0 <= exp_deg_Antistat_3 <= 1 Integer\n",
        "0 <= exp_deg_Metrastat_1 <= 1 Integer\n",
        "0 <= exp_deg_Metrastat_2 <= 1 Integer\n",
        "0 <= exp_deg_Metrastat_2.5 <= 1 Integer\n",
        "0 <= exp_deg_Metrastat_3 <= 1 Integer\n",
        "0 <= exp_deg_Ransomat_1 <= 1 Integer\n",
        "0 <= exp_deg_Ransomat_2 <= 1 Integer\n",
        "0 <= exp_deg_Ransomat_2.5 <= 1 Integer\n",
        "0 <= exp_deg_Ransomat_3 <= 1 Integer\n",
        "0 <= exp_deg_Rheometer_1 <= 1 Integer\n",
        "0 <= exp_deg_Rheometer_2 <= 1 Integer\n",
        "0 <= exp_deg_Rheometer_2.5 <= 1 Integer\n",
        "0 <= exp_deg_Rheometer_3 <= 1 Integer\n",
        "0 <= exp_deg_TMA_1 <= 1 Integer\n",
        "0 <= exp_deg_TMA_2 <= 1 Integer\n",
        "0 <= exp_deg_TMA_2.5 <= 1 Integer\n",
        "0 <= exp_deg_TMA_3 <= 1 Integer\n",
        "0 <= exp_stu_Antistat_1 <= 1 Integer\n",
        "0 <= exp_stu_Antistat_2 <= 1 Integer\n",
        "0 <= exp_stu_Antistat_3 <= 1 Integer\n",
        "0 <= exp_stu_Antistat_4 <= 1 Integer\n",
        "0 <= exp_stu_Metrastat_1 <= 1 Integer\n",
        "0 <= exp_stu_Metrastat_2 <= 1 Integer\n",
        "0 <= exp_stu_Metrastat_3 <= 1 Integer\n",
        "0 <= exp_stu_Metrastat_4 <= 1 Integer\n",
        "0 <= exp_stu_Ransomat_1 <= 1 Integer\n",
        "0 <= exp_stu_Ransomat_2 <= 1 Integer\n",
        "0 <= exp_stu_Ransomat_3 <= 1 Integer\n",
        "0 <= exp_stu_Ransomat_4 <= 1 Integer\n",
        "0 <= exp_stu_Rheometer_1 <= 1 Integer\n",
        "0 <= exp_stu_Rheometer_2 <= 1 Integer\n",
        "0 <= exp_stu_Rheometer_3 <= 1 Integer\n",
        "0 <= exp_stu_Rheometer_4 <= 1 Integer\n",
        "0 <= exp_stu_TMA_1 <= 1 Integer\n",
        "0 <= exp_stu_TMA_2 <= 1 Integer\n",
        "0 <= exp_stu_TMA_3 <= 1 Integer\n",
        "0 <= exp_stu_TMA_4 <= 1 Integer\n",
        "stu_exp_1_Antistat free Continuous\n",
        "stu_exp_1_Metrastat free Continuous\n",
        "stu_exp_1_Ransomat free Continuous\n",
        "stu_exp_1_Rheometer free Continuous\n",
        "stu_exp_1_TMA free Continuous\n",
        "stu_exp_2_Antistat free Continuous\n",
        "stu_exp_2_Metrastat free Continuous\n",
        "stu_exp_2_Ransomat free Continuous\n",
        "stu_exp_2_Rheometer free Continuous\n",
        "stu_exp_2_TMA free Continuous\n",
        "stu_exp_3_Antistat free Continuous\n",
        "stu_exp_3_Metrastat free Continuous\n",
        "stu_exp_3_Ransomat free Continuous\n",
        "stu_exp_3_Rheometer free Continuous\n",
        "stu_exp_3_TMA free Continuous\n",
        "stu_exp_4_Antistat free Continuous\n",
        "stu_exp_4_Metrastat free Continuous\n",
        "stu_exp_4_Ransomat free Continuous\n",
        "stu_exp_4_Rheometer free Continuous\n",
        "stu_exp_4_TMA free Continuous\n",
        "total_time_Antistat free Continuous\n",
        "total_time_Metrastat free Continuous\n",
        "total_time_Ransomat free Continuous\n",
        "total_time_Rheometer free Continuous\n",
        "total_time_TMA free Continuous"
       ]
      }
     ],
     "prompt_number": 40
    },
    {
     "cell_type": "code",
     "collapsed": false,
     "input": [],
     "language": "python",
     "metadata": {},
     "outputs": []
    }
   ],
   "metadata": {}
  }
 ]
}