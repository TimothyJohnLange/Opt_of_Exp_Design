{
 "metadata": {
  "name": "",
  "signature": "sha256:99af3fe2de2afe0eeb68b4df8466c3b052acf5877fc7b6c588ee0755461305f8"
 },
 "nbformat": 3,
 "nbformat_minor": 0,
 "worksheets": [
  {
   "cells": [
    {
     "cell_type": "code",
     "collapsed": false,
     "input": [
      "from scipy.misc import comb\n",
      "%pylab inline"
     ],
     "language": "python",
     "metadata": {},
     "outputs": [
      {
       "output_type": "stream",
       "stream": "stdout",
       "text": [
        "Populating the interactive namespace from numpy and matplotlib\n"
       ]
      },
      {
       "output_type": "stream",
       "stream": "stderr",
       "text": [
        "WARNING: pylab import has clobbered these variables: ['exp']\n",
        "`%matplotlib` prevents importing * from pylab and numpy\n"
       ]
      }
     ],
     "prompt_number": 7
    },
    {
     "cell_type": "code",
     "collapsed": false,
     "input": [
      "deg = [1.0, 2.0, 2.5, 3]\n",
      "q = 6.0"
     ],
     "language": "python",
     "metadata": {},
     "outputs": [],
     "prompt_number": 2
    },
    {
     "cell_type": "code",
     "collapsed": false,
     "input": [
      "experiments = ['Antistat',\n",
      "               'Rheometer',\n",
      "               'Metrastat',\n",
      "               'Ransomat',\n",
      "               'TMA']\n",
      "\n",
      "exp_time = {'Antistat': 5.0,\n",
      "            'Rheometer': 210,\n",
      "            'Metrastat': 180,\n",
      "            'Ransomat': 300,\n",
      "            'TMA': None}"
     ],
     "language": "python",
     "metadata": {},
     "outputs": [],
     "prompt_number": 3
    },
    {
     "cell_type": "code",
     "collapsed": false,
     "input": [
      "T = zeros([size(experiments), size(deg)])\n",
      "\n",
      "for col, n in enumerate(deg):\n",
      "    if n == 2.5:\n",
      "        no_terms = comb(n + q - 0.5, n + 0.5) - comb(q, 3)\n",
      "    else:\n",
      "        no_terms = comb(n + q - 1, n)\n",
      "    \n",
      "    for row, exp in enumerate(experiments):\n",
      "        no_exp = no_terms\n",
      "        if exp_time[exp] != None:\n",
      "            T[row][col] = exp_time[exp]*no_exp/60\n",
      "            print no_exp\n",
      "            \n",
      "            \n",
      "    "
     ],
     "language": "python",
     "metadata": {},
     "outputs": [
      {
       "output_type": "stream",
       "stream": "stdout",
       "text": [
        "6.0\n",
        "6.0\n",
        "6.0\n",
        "6.0\n",
        "21.0\n",
        "21.0\n",
        "21.0\n",
        "21.0\n",
        "36.0\n",
        "36.0\n",
        "36.0\n",
        "36.0\n",
        "56.0\n",
        "56.0\n",
        "56.0\n",
        "56.0\n"
       ]
      }
     ],
     "prompt_number": 34
    },
    {
     "cell_type": "code",
     "collapsed": false,
     "input": [
      "T"
     ],
     "language": "python",
     "metadata": {},
     "outputs": [
      {
       "metadata": {},
       "output_type": "pyout",
       "prompt_number": 33,
       "text": [
        "array([[   0.5       ,    1.75      ,    3.        ,    4.66666667],\n",
        "       [  21.        ,   73.5       ,  126.        ,  196.        ],\n",
        "       [  18.        ,   63.        ,  108.        ,  168.        ],\n",
        "       [  30.        ,  105.        ,  180.        ,  280.        ],\n",
        "       [   0.        ,    0.        ,    0.        ,    0.        ]])"
       ]
      }
     ],
     "prompt_number": 33
    },
    {
     "cell_type": "code",
     "collapsed": false,
     "input": [],
     "language": "python",
     "metadata": {},
     "outputs": []
    }
   ],
   "metadata": {}
  }
 ]
}