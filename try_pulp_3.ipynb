{
 "metadata": {
  "name": "",
  "signature": "sha256:3e8689a9919da8e3c90d1184d230e68abed55d7cce9eeff6b193151903e2fade"
 },
 "nbformat": 3,
 "nbformat_minor": 0,
 "worksheets": [
  {
   "cells": [
    {
     "cell_type": "code",
     "collapsed": false,
     "input": [
      "from pulp import *"
     ],
     "language": "python",
     "metadata": {},
     "outputs": [],
     "prompt_number": 1
    },
    {
     "cell_type": "code",
     "collapsed": false,
     "input": [
      "seq = [\"1\", \"2\", \"3\"]"
     ],
     "language": "python",
     "metadata": {},
     "outputs": [],
     "prompt_number": 2
    },
    {
     "cell_type": "code",
     "collapsed": false,
     "input": [
      "choices = LpVariable.dicts(\"students\", (seq, seq), 0, 1, 'Integer')"
     ],
     "language": "python",
     "metadata": {},
     "outputs": [],
     "prompt_number": 7
    },
    {
     "cell_type": "code",
     "collapsed": false,
     "input": [
      "choices"
     ],
     "language": "python",
     "metadata": {},
     "outputs": [
      {
       "metadata": {},
       "output_type": "pyout",
       "prompt_number": 8,
       "text": [
        "{'1': {'1': students_1_1, '2': students_1_2, '3': students_1_3},\n",
        " '2': {'1': students_2_1, '2': students_2_2, '3': students_2_3},\n",
        " '3': {'1': students_3_1, '2': students_3_2, '3': students_3_3}}"
       ]
      }
     ],
     "prompt_number": 8
    },
    {
     "cell_type": "code",
     "collapsed": false,
     "input": [
      "choices['1']['2']"
     ],
     "language": "python",
     "metadata": {},
     "outputs": [
      {
       "metadata": {},
       "output_type": "pyout",
       "prompt_number": 10,
       "text": [
        "students_1_2"
       ]
      }
     ],
     "prompt_number": 10
    },
    {
     "cell_type": "code",
     "collapsed": false,
     "input": [
      "student = [\"1\", \"2\", \"3\"]"
     ],
     "language": "python",
     "metadata": {},
     "outputs": [],
     "prompt_number": 11
    },
    {
     "cell_type": "code",
     "collapsed": false,
     "input": [
      "degree = [\"1\", \"2\", \"2.5\", \"3\"]"
     ],
     "language": "python",
     "metadata": {},
     "outputs": [],
     "prompt_number": 12
    },
    {
     "cell_type": "code",
     "collapsed": false,
     "input": [
      "exp = [\"1\", \"2\"]\n"
     ],
     "language": "python",
     "metadata": {},
     "outputs": [],
     "prompt_number": 14
    },
    {
     "cell_type": "code",
     "collapsed": false,
     "input": [
      "exp_deg = LpVariable.dicts(\"exp_deg\", (exp, degree), 0, 1, \"Integer\")"
     ],
     "language": "python",
     "metadata": {},
     "outputs": [],
     "prompt_number": 16
    },
    {
     "cell_type": "code",
     "collapsed": false,
     "input": [
      "exp_deg[\"2\"][\"2.]"
     ],
     "language": "python",
     "metadata": {},
     "outputs": [
      {
       "metadata": {},
       "output_type": "pyout",
       "prompt_number": 18,
       "text": [
        "{'1': {'1': exp_deg_1_1,\n",
        "  '2': exp_deg_1_2,\n",
        "  '2.5': exp_deg_1_2.5,\n",
        "  '3': exp_deg_1_3},\n",
        " '2': {'1': exp_deg_2_1,\n",
        "  '2': exp_deg_2_2,\n",
        "  '2.5': exp_deg_2_2.5,\n",
        "  '3': exp_deg_2_3}}"
       ]
      }
     ],
     "prompt_number": 18
    },
    {
     "cell_type": "code",
     "collapsed": false,
     "input": [],
     "language": "python",
     "metadata": {},
     "outputs": []
    }
   ],
   "metadata": {}
  }
 ]
}